{
 "cells": [
  {
   "cell_type": "code",
   "execution_count": 1,
   "metadata": {
    "vscode": {
     "languageId": "powershell"
    }
   },
   "outputs": [],
   "source": [
    "# ! mkdir datasets\n",
    "# ! kaggle datasets download abhishek/aaamlp -p datasets"
   ]
  },
  {
   "cell_type": "markdown",
   "metadata": {},
   "source": [
    "# Cross Validation\n",
    "> [scikit-learn cross-validation guide](https://scikit-learn.org/stable/modules/cross_validation.html)\n",
    "\n",
    "What is cross validation?\n",
    "\n",
    "*Cross-validation is a step in the process of building a machine learning model which helps us ensure that our models fit the data accurately and also ensures that we do not overfit*\n",
    "\n",
    "Consider to address a classification problem using just **hold-out** validation"
   ]
  },
  {
   "cell_type": "markdown",
   "metadata": {},
   "source": [
    "1. Load the data"
   ]
  },
  {
   "cell_type": "code",
   "execution_count": 2,
   "metadata": {},
   "outputs": [
    {
     "name": "stdout",
     "output_type": "stream",
     "text": [
      "File Name                                             Modified             Size\n",
      "adult.csv                                      2020-11-18 12:08:04      4104734\n",
      "adult_folds.csv                                2020-11-18 12:08:04      3583734\n",
      "cat_test.csv                                   2020-11-18 12:08:04     56141294\n",
      "cat_train.csv                                  2020-11-18 12:08:08     85299544\n",
      "cat_train_folds.csv                            2020-11-18 12:08:16     86499550\n",
      "imdb.csv                                       2020-11-18 12:08:22     66212309\n",
      "imdb_folds.csv                                 2020-11-18 12:08:30     65962315\n",
      "mnist_test.csv                                 2020-11-18 12:08:38     18303650\n",
      "mnist_train.csv                                2020-11-18 12:08:38    109640201\n",
      "mnist_train_folds.csv                          2020-11-18 12:08:46    109700206\n",
      "mobile_train.csv                               2020-11-18 12:08:52       122403\n",
      "winequality-red.csv                            2020-11-18 12:08:52       100951\n"
     ]
    }
   ],
   "source": [
    "import pandas as pd\n",
    "from pathlib import Path\n",
    "from zipfile import ZipFile\n",
    "\n",
    "zip_file = ZipFile(Path('.')/'datasets'/'aaamlp.zip')\n",
    "zip_file.printdir()\n",
    "\n",
    "with zip_file.open('winequality-red.csv') as winequality_data:\n",
    "    df = pd.read_csv(winequality_data)"
   ]
  },
  {
   "cell_type": "code",
   "execution_count": 3,
   "metadata": {},
   "outputs": [
    {
     "data": {
      "text/plain": [
       "(1599, 12)"
      ]
     },
     "execution_count": 3,
     "metadata": {},
     "output_type": "execute_result"
    }
   ],
   "source": [
    "df.shape"
   ]
  },
  {
   "cell_type": "code",
   "execution_count": 4,
   "metadata": {},
   "outputs": [
    {
     "data": {
      "text/html": [
       "<div>\n",
       "<style scoped>\n",
       "    .dataframe tbody tr th:only-of-type {\n",
       "        vertical-align: middle;\n",
       "    }\n",
       "\n",
       "    .dataframe tbody tr th {\n",
       "        vertical-align: top;\n",
       "    }\n",
       "\n",
       "    .dataframe thead th {\n",
       "        text-align: right;\n",
       "    }\n",
       "</style>\n",
       "<table border=\"1\" class=\"dataframe\">\n",
       "  <thead>\n",
       "    <tr style=\"text-align: right;\">\n",
       "      <th></th>\n",
       "      <th>fixed acidity</th>\n",
       "      <th>volatile acidity</th>\n",
       "      <th>citric acid</th>\n",
       "      <th>residual sugar</th>\n",
       "      <th>chlorides</th>\n",
       "      <th>free sulfur dioxide</th>\n",
       "      <th>total sulfur dioxide</th>\n",
       "      <th>density</th>\n",
       "      <th>pH</th>\n",
       "      <th>sulphates</th>\n",
       "      <th>alcohol</th>\n",
       "      <th>quality</th>\n",
       "    </tr>\n",
       "  </thead>\n",
       "  <tbody>\n",
       "    <tr>\n",
       "      <th>0</th>\n",
       "      <td>7.4</td>\n",
       "      <td>0.70</td>\n",
       "      <td>0.00</td>\n",
       "      <td>1.9</td>\n",
       "      <td>0.076</td>\n",
       "      <td>11.0</td>\n",
       "      <td>34.0</td>\n",
       "      <td>0.9978</td>\n",
       "      <td>3.51</td>\n",
       "      <td>0.56</td>\n",
       "      <td>9.4</td>\n",
       "      <td>5</td>\n",
       "    </tr>\n",
       "    <tr>\n",
       "      <th>1</th>\n",
       "      <td>7.8</td>\n",
       "      <td>0.88</td>\n",
       "      <td>0.00</td>\n",
       "      <td>2.6</td>\n",
       "      <td>0.098</td>\n",
       "      <td>25.0</td>\n",
       "      <td>67.0</td>\n",
       "      <td>0.9968</td>\n",
       "      <td>3.20</td>\n",
       "      <td>0.68</td>\n",
       "      <td>9.8</td>\n",
       "      <td>5</td>\n",
       "    </tr>\n",
       "    <tr>\n",
       "      <th>2</th>\n",
       "      <td>7.8</td>\n",
       "      <td>0.76</td>\n",
       "      <td>0.04</td>\n",
       "      <td>2.3</td>\n",
       "      <td>0.092</td>\n",
       "      <td>15.0</td>\n",
       "      <td>54.0</td>\n",
       "      <td>0.9970</td>\n",
       "      <td>3.26</td>\n",
       "      <td>0.65</td>\n",
       "      <td>9.8</td>\n",
       "      <td>5</td>\n",
       "    </tr>\n",
       "    <tr>\n",
       "      <th>3</th>\n",
       "      <td>11.2</td>\n",
       "      <td>0.28</td>\n",
       "      <td>0.56</td>\n",
       "      <td>1.9</td>\n",
       "      <td>0.075</td>\n",
       "      <td>17.0</td>\n",
       "      <td>60.0</td>\n",
       "      <td>0.9980</td>\n",
       "      <td>3.16</td>\n",
       "      <td>0.58</td>\n",
       "      <td>9.8</td>\n",
       "      <td>6</td>\n",
       "    </tr>\n",
       "    <tr>\n",
       "      <th>4</th>\n",
       "      <td>7.4</td>\n",
       "      <td>0.70</td>\n",
       "      <td>0.00</td>\n",
       "      <td>1.9</td>\n",
       "      <td>0.076</td>\n",
       "      <td>11.0</td>\n",
       "      <td>34.0</td>\n",
       "      <td>0.9978</td>\n",
       "      <td>3.51</td>\n",
       "      <td>0.56</td>\n",
       "      <td>9.4</td>\n",
       "      <td>5</td>\n",
       "    </tr>\n",
       "  </tbody>\n",
       "</table>\n",
       "</div>"
      ],
      "text/plain": [
       "   fixed acidity  volatile acidity  citric acid  residual sugar  chlorides  \\\n",
       "0            7.4              0.70         0.00             1.9      0.076   \n",
       "1            7.8              0.88         0.00             2.6      0.098   \n",
       "2            7.8              0.76         0.04             2.3      0.092   \n",
       "3           11.2              0.28         0.56             1.9      0.075   \n",
       "4            7.4              0.70         0.00             1.9      0.076   \n",
       "\n",
       "   free sulfur dioxide  total sulfur dioxide  density    pH  sulphates  \\\n",
       "0                 11.0                  34.0   0.9978  3.51       0.56   \n",
       "1                 25.0                  67.0   0.9968  3.20       0.68   \n",
       "2                 15.0                  54.0   0.9970  3.26       0.65   \n",
       "3                 17.0                  60.0   0.9980  3.16       0.58   \n",
       "4                 11.0                  34.0   0.9978  3.51       0.56   \n",
       "\n",
       "   alcohol  quality  \n",
       "0      9.4        5  \n",
       "1      9.8        5  \n",
       "2      9.8        5  \n",
       "3      9.8        6  \n",
       "4      9.4        5  "
      ]
     },
     "execution_count": 4,
     "metadata": {},
     "output_type": "execute_result"
    }
   ],
   "source": [
    "df.head()"
   ]
  },
  {
   "cell_type": "markdown",
   "metadata": {},
   "source": [
    "The `quality` column is the target."
   ]
  },
  {
   "cell_type": "code",
   "execution_count": 5,
   "metadata": {},
   "outputs": [
    {
     "data": {
      "text/plain": [
       "<AxesSubplot:xlabel='quality', ylabel='count'>"
      ]
     },
     "execution_count": 5,
     "metadata": {},
     "output_type": "execute_result"
    },
    {
     "data": {
      "image/png": "[encoded data removed]",
      "text/plain": [
       "<Figure size 640x480 with 1 Axes>"
      ]
     },
     "metadata": {},
     "output_type": "display_data"
    }
   ],
   "source": [
    "import seaborn as sns\n",
    "\n",
    "sns.countplot(data=df, x='quality')"
   ]
  },
  {
   "cell_type": "markdown",
   "metadata": {},
   "source": [
    "2. Split the data"
   ]
  },
  {
   "cell_type": "code",
   "execution_count": 6,
   "metadata": {},
   "outputs": [
    {
     "data": {
      "text/plain": [
       "((1199, 11), (400, 11), (1199,), (400,))"
      ]
     },
     "execution_count": 6,
     "metadata": {},
     "output_type": "execute_result"
    }
   ],
   "source": [
    "from sklearn.model_selection import train_test_split\n",
    "\n",
    "y = df['quality']\n",
    "X = df.drop('quality',axis=1)\n",
    "\n",
    "X_train,X_test,y_train,y_test = train_test_split(X,y,shuffle=True)\n",
    "\n",
    "X_train.shape, X_test.shape, y_train.shape, y_test.shape"
   ]
  },
  {
   "cell_type": "markdown",
   "metadata": {},
   "source": [
    "3. Define the model"
   ]
  },
  {
   "cell_type": "code",
   "execution_count": 7,
   "metadata": {},
   "outputs": [],
   "source": [
    "from sklearn.tree import DecisionTreeClassifier\n",
    "\n",
    "classifier = DecisionTreeClassifier()"
   ]
  },
  {
   "cell_type": "markdown",
   "metadata": {},
   "source": [
    "4. Fit"
   ]
  },
  {
   "cell_type": "code",
   "execution_count": 8,
   "metadata": {},
   "outputs": [
    {
     "data": {
      "text/plain": [
       "DecisionTreeClassifier()"
      ]
     },
     "execution_count": 8,
     "metadata": {},
     "output_type": "execute_result"
    }
   ],
   "source": [
    "classifier.fit(X_train,y_train)"
   ]
  },
  {
   "cell_type": "markdown",
   "metadata": {},
   "source": [
    "5. Predict"
   ]
  },
  {
   "cell_type": "code",
   "execution_count": 9,
   "metadata": {},
   "outputs": [],
   "source": [
    "y_pred = classifier.predict(X_test)"
   ]
  },
  {
   "cell_type": "markdown",
   "metadata": {},
   "source": [
    "6. Evaluate: check the accuracy on the train set and on the test set"
   ]
  },
  {
   "cell_type": "code",
   "execution_count": 10,
   "metadata": {},
   "outputs": [
    {
     "name": "stdout",
     "output_type": "stream",
     "text": [
      "1.0\n",
      "0.615\n"
     ]
    }
   ],
   "source": [
    "from sklearn.metrics import accuracy_score\n",
    "\n",
    "print(accuracy_score(classifier.predict(X_train),y_train))\n",
    "print(accuracy_score(y_test,y_pred))"
   ]
  },
  {
   "cell_type": "markdown",
   "metadata": {},
   "source": [
    "The model is clearly overfitting. This issue becomes even more visible if different maximum depths (`max_depth`) parameters for the `DecisionTreeClassifier` are set"
   ]
  },
  {
   "cell_type": "code",
   "execution_count": 11,
   "metadata": {},
   "outputs": [
    {
     "name": "stderr",
     "output_type": "stream",
     "text": [
      "100%|██████████| 20/20 [00:00<00:00, 51.81it/s]\n"
     ]
    },
    {
     "data": {
      "image/png": "[encoded data removed]",
      "text/plain": [
       "<Figure size 640x480 with 1 Axes>"
      ]
     },
     "metadata": {},
     "output_type": "display_data"
    }
   ],
   "source": [
    "from tqdm import tqdm\n",
    "\n",
    "scores = {\n",
    "    'train': [],\n",
    "    'test': []\n",
    "}\n",
    "\n",
    "for max_depth in tqdm(range(1,21)):\n",
    "    classifier = DecisionTreeClassifier(max_depth=max_depth)\n",
    "    classifier.fit(X_train,y_train)\n",
    "    scores['train'].append(classifier.score(X_train,y_train))\n",
    "    scores['test'].append(classifier.score(X_test,y_test))\n",
    "\n",
    "score_df = pd.DataFrame(scores).stack()\n",
    "score_df.name = 'scores'\n",
    "score_df.index.names = ['id','group']\n",
    "score_df = score_df.reset_index()\n",
    "# score_df\n",
    "with sns.plotting_context('notebook'):\n",
    "    sns.lineplot(score_df,x='id',y='scores',hue='group')\n"
   ]
  },
  {
   "cell_type": "markdown",
   "metadata": {},
   "source": [
    "The test set accuracy does not improve, while the train set accuracy almost becomes equal to 1.\n",
    "> Occam’s razor: do not try to complicate things that can be solved in a much simpler manner. The simplest solutions are the most generalizable solutions.\n",
    "\n",
    "Instead of hold-out validation use **cross validation**\n",
    "- k-fold cross-validation\n",
    "- stratified k-fold cross-validation\n",
    "- hold-out based validation (seen before)\n",
    "- leave-one-out cross-validation\n",
    "- group k-fold cross-validation\n",
    "- time series split"
   ]
  },
  {
   "cell_type": "markdown",
   "metadata": {},
   "source": [
    "Before trying the cross validation techniques, split the dataset in a train-validation set and a test set"
   ]
  },
  {
   "cell_type": "markdown",
   "metadata": {},
   "source": [
    "1. Load the data"
   ]
  },
  {
   "cell_type": "code",
   "execution_count": 12,
   "metadata": {},
   "outputs": [],
   "source": [
    "import pandas as pd\n",
    "from pathlib import Path\n",
    "from zipfile import ZipFile\n",
    "\n",
    "zip_file = ZipFile(Path('.')/'datasets'/'aaamlp.zip')\n",
    "\n",
    "with zip_file.open('winequality-red.csv') as winequality_data:\n",
    "    df = pd.read_csv(winequality_data)"
   ]
  },
  {
   "cell_type": "markdown",
   "metadata": {},
   "source": [
    "2. Split the data"
   ]
  },
  {
   "cell_type": "code",
   "execution_count": 13,
   "metadata": {},
   "outputs": [
    {
     "data": {
      "text/plain": [
       "((1199, 11), (400, 11), (1199,), (400,))"
      ]
     },
     "execution_count": 13,
     "metadata": {},
     "output_type": "execute_result"
    }
   ],
   "source": [
    "from sklearn.model_selection import train_test_split\n",
    "\n",
    "y = df['quality']\n",
    "X = df.drop('quality',axis=1)\n",
    "\n",
    "X_train_valid,X_test,y_train_valid,y_test = train_test_split(X,y,shuffle=True)\n",
    "\n",
    "X_train_valid.shape, X_test.shape, y_train_valid.shape, y_test.shape"
   ]
  },
  {
   "cell_type": "markdown",
   "metadata": {},
   "source": [
    "### k-fold cross-validation\n",
    "It divides the data into `k` different sets which are exclusive of each other. \n",
    "\n",
    "It is implemented in scikit-learn as the `KFold` class. A `KFold` instance allows to create `k` (i.e., `n_splits`) folds of a dataset or matrix. Using the `.split(X,y)` method of a `KFold` object, the output is a generator that generates `k` tuples, each containing\n",
    "- an array of indexes for the train set\n",
    "- an array of indexes for the test set\n",
    "\n",
    "Look at the following example"
   ]
  },
  {
   "cell_type": "code",
   "execution_count": 208,
   "metadata": {},
   "outputs": [
    {
     "name": "stdout",
     "output_type": "stream",
     "text": [
      "[(array([ 0,  4,  5,  6,  7,  8,  9, 11, 13, 14]), array([ 1,  2,  3, 10, 12])),\n",
      " (array([ 1,  2,  3,  5,  6,  9, 10, 11, 12, 13]), array([ 0,  4,  7,  8, 14])),\n",
      " (array([ 0,  1,  2,  3,  4,  7,  8, 10, 12, 14]), array([ 5,  6,  9, 11, 13]))]\n"
     ]
    }
   ],
   "source": [
    "import pandas as pd\n",
    "import numpy as np\n",
    "from sklearn.model_selection import KFold\n",
    "from pprint import pprint\n",
    "\n",
    "n_cols = 3\n",
    "df_test = pd.DataFrame(np.random.randint(1,10,(15,n_cols)), columns=[f'col_{i+1}' for i in range(n_cols)])\n",
    "\n",
    "cv = KFold(n_splits=3, shuffle=True)\n",
    "\n",
    "out = []\n",
    "for fold in cv.split(df_test):\n",
    "    out.append(fold)\n",
    "\n",
    "pprint(out)"
   ]
  },
  {
   "cell_type": "markdown",
   "metadata": {},
   "source": [
    "So, KFold creates arrays of indexes, that then has to be used to split iteratively the dataset to cross-validate the model. \n",
    "\n",
    "Notice that each row is part of the validation set 1 time (and is part of the test set $k-1$ times), so each fold can be uniquely identified based on which iteration it is used as validation set.\n",
    "\n",
    "#### Example"
   ]
  },
  {
   "cell_type": "markdown",
   "metadata": {},
   "source": [
    "3. Define the `KFold` object and apply it to the dataset to create the `k` folds"
   ]
  },
  {
   "cell_type": "code",
   "execution_count": 17,
   "metadata": {},
   "outputs": [],
   "source": [
    "import pandas as pd\n",
    "from sklearn.model_selection import KFold\n",
    "\n",
    "cv = KFold(n_splits=5, shuffle=True)"
   ]
  },
  {
   "cell_type": "markdown",
   "metadata": {},
   "source": [
    "4. Specify the model"
   ]
  },
  {
   "cell_type": "code",
   "execution_count": 43,
   "metadata": {},
   "outputs": [],
   "source": [
    "from sklearn.tree import DecisionTreeClassifier\n",
    "\n",
    "classifier = DecisionTreeClassifier(max_depth=10)"
   ]
  },
  {
   "cell_type": "markdown",
   "metadata": {},
   "source": [
    "5. Validate the model\n",
    "    \n",
    "    In this step the model is validated on the $k$ folds. It means that the model is trained on $k-1$ folders and evaluated on the left one across $k$ iterations. In other words, $k$ parametrically different models are trained and evaluated, keeping the same hyperparameters.\n",
    "    - The model is the same looking at the hyperparameters\n",
    "    - The model changes looking at the parameters\n",
    "\n",
    "    In this way $k$ model evaluations are available, allowing to understand more robustly if the model is overfitting or not. It allows to compare different models to choose best one that minimizes overfitting and underfitting."
   ]
  },
  {
   "cell_type": "code",
   "execution_count": 44,
   "metadata": {},
   "outputs": [
    {
     "name": "stderr",
     "output_type": "stream",
     "text": [
      "5it [00:00, 76.92it/s]"
     ]
    },
    {
     "name": "stdout",
     "output_type": "stream",
     "text": [
      "fold 0\t training score: 0.913 | validation score: 0.608\n",
      "fold 1\t training score: 0.932 | validation score: 0.575\n",
      "fold 2\t training score: 0.914 | validation score: 0.558\n",
      "fold 3\t training score: 0.921 | validation score: 0.596\n",
      "fold 4\t training score: 0.878 | validation score: 0.548\n"
     ]
    },
    {
     "name": "stderr",
     "output_type": "stream",
     "text": [
      "\n"
     ]
    }
   ],
   "source": [
    "from tqdm import tqdm\n",
    "\n",
    "for kfold_num, (train_id, valid_id) in tqdm(enumerate(cv.split(X_train_valid,y_train_valid))):\n",
    "    classifier.fit(X_train_valid.iloc[train_id,:],y_train_valid.iloc[train_id])\n",
    "    train_score, valid_score = classifier.score(X_train_valid.iloc[train_id,:], y_train_valid.iloc[train_id]), classifier.score(X_train_valid.iloc[valid_id,:], y_train_valid.iloc[valid_id])\n",
    "    print(f'fold {kfold_num}\\t training score: {train_score:.3f} | validation score: {valid_score:.3f}')"
   ]
  },
  {
   "cell_type": "markdown",
   "metadata": {},
   "source": [
    "Looking at these values it is possible to conclude that the model is lagerly overfitting.\n",
    "\n",
    "After this step the best model is chosen and retrained on the completed train-validation dataset, to maximize the data used for the training, and then is evaluated on the test set."
   ]
  },
  {
   "cell_type": "markdown",
   "metadata": {},
   "source": [
    "### stratified k-fold cross-validation\n",
    "If the dataset is greatly imbalanced, it is better to use a stratified k-fold, which for example means that, if the target values in the dataset are 90% equal to 1 and 10% equal to 0, then also each fold is going to composed by a similar portion of records having target equal to 1 and 0.\n",
    "\n",
    "Look at the following example"
   ]
  },
  {
   "cell_type": "code",
   "execution_count": 104,
   "metadata": {},
   "outputs": [
    {
     "name": "stdout",
     "output_type": "stream",
     "text": [
      "StratifiedKFold\n",
      "fold 0\t train (0,1): (7,3) | test (0,1): (3,2)\n",
      "fold 1\t train (0,1): (7,3) | test (0,1): (3,2)\n",
      "fold 2\t train (0,1): (6,4) | test (0,1): (4,1)\n"
     ]
    }
   ],
   "source": [
    "import pandas as pd\n",
    "import numpy as np\n",
    "from sklearn.model_selection import StratifiedKFold\n",
    "from pprint import pprint\n",
    "\n",
    "n_cols = 2\n",
    "n_rows = 15\n",
    "n_minority_class = 5\n",
    "df_test = pd.DataFrame(np.random.randint(1,10,(n_rows,n_cols)), columns=[f'col_{i+1}' for i in range(n_cols)])\n",
    "df_test['target'] = [1]*(n_minority_class) + [0]*(n_rows-n_minority_class)\n",
    "\n",
    "skf = StratifiedKFold(n_splits=3, shuffle=True)\n",
    "\n",
    "# StratifiedKFold\n",
    "out = []\n",
    "for fold in skf.split(df_test.drop('target',axis=1),df_test['target']):\n",
    "    out.append(fold)\n",
    "\n",
    "for num, o in enumerate(out):\n",
    "    train_counts, test_counts = df_test['target'].iloc[o[0]].value_counts(), df_test['target'].iloc[o[1]].value_counts()\n",
    "    print(f'fold {num}\\t train (0,1): ({train_counts[0]},{train_counts[1]}) | test (0,1): ({test_counts[0]},{test_counts[1]})')"
   ]
  },
  {
   "cell_type": "markdown",
   "metadata": {},
   "source": [
    "The steps on the example are the same as the ones for KFold, so they are not repeated."
   ]
  },
  {
   "cell_type": "markdown",
   "metadata": {},
   "source": [
    "#### stratified k-fold cross-validation in regression problems\n",
    "In case of a regression problem, where, by definition, the target `y` is composed of continous values, the target must be discretized into bins before applying the stratified k-fold cross-validation.\n",
    "\n",
    "If the number of samples is limited, use the **Sturge's Rule** to calculate the appropriate number of bins\n",
    "$$\\text{Number of bins} \\le 1+\\log _{2}(N)$$\n",
    "\n",
    "Look at the following example"
   ]
  },
  {
   "cell_type": "code",
   "execution_count": 181,
   "metadata": {},
   "outputs": [
    {
     "data": {
      "text/plain": [
       "1    6\n",
       "0    4\n",
       "4    4\n",
       "3    3\n",
       "2    3\n",
       "Name: bins, dtype: int64"
      ]
     },
     "execution_count": 181,
     "metadata": {},
     "output_type": "execute_result"
    }
   ],
   "source": [
    "import pandas as pd\n",
    "import numpy as np\n",
    "from sklearn.model_selection import KFold, StratifiedKFold\n",
    "from pprint import pprint\n",
    "import numpy as np\n",
    "\n",
    "n_cols = 2\n",
    "n_rows = 20\n",
    "n_minority_class = 6\n",
    "df_test = pd.DataFrame(np.random.randint(1,10,(n_rows,n_cols)), columns=[f'col_{i+1}' for i in range(n_cols)])\n",
    "df_test['target'] = np.random.normal(size=df_test.shape[0])\n",
    "\n",
    "num_bins = int(np.floor(1 + np.log2(len(df_test))))\n",
    "\n",
    "df_test['bins'] = pd.cut(\n",
    "    x = df_test['target'], \n",
    "    bins = num_bins,\n",
    "    labels = False\n",
    ")\n",
    "\n",
    "df_test['bins'].value_counts()"
   ]
  },
  {
   "cell_type": "markdown",
   "metadata": {},
   "source": [
    "### leave-one-out cross-validation\n",
    "Leave-one-out cross-validation is k-fold cross-validation taken to the extreme: the foldes are composed of $N-1$ records out of $N$ total records in the dataset, which means that $N$ models are trained and validated on a single record each (i.e., the \"*left-one-out*\"). \n",
    "\n",
    "scikit-learn provides the `LeaveOneOut` class that splits the dataset so that each sample is used once as a test set (singleton) while the remaining samples form the training set.\n",
    "\n",
    "Look at the example."
   ]
  },
  {
   "cell_type": "code",
   "execution_count": 187,
   "metadata": {},
   "outputs": [
    {
     "name": "stdout",
     "output_type": "stream",
     "text": [
      "[(array([1, 2, 3, 4, 5, 6, 7, 8, 9]), array([0])),\n",
      " (array([0, 2, 3, 4, 5, 6, 7, 8, 9]), array([1])),\n",
      " (array([0, 1, 3, 4, 5, 6, 7, 8, 9]), array([2])),\n",
      " (array([0, 1, 2, 4, 5, 6, 7, 8, 9]), array([3])),\n",
      " (array([0, 1, 2, 3, 5, 6, 7, 8, 9]), array([4])),\n",
      " (array([0, 1, 2, 3, 4, 6, 7, 8, 9]), array([5])),\n",
      " (array([0, 1, 2, 3, 4, 5, 7, 8, 9]), array([6])),\n",
      " (array([0, 1, 2, 3, 4, 5, 6, 8, 9]), array([7])),\n",
      " (array([0, 1, 2, 3, 4, 5, 6, 7, 9]), array([8])),\n",
      " (array([0, 1, 2, 3, 4, 5, 6, 7, 8]), array([9]))]\n"
     ]
    }
   ],
   "source": [
    "import pandas as pd\n",
    "import numpy as np\n",
    "from sklearn.model_selection import LeaveOneOut\n",
    "from pprint import pprint\n",
    "import numpy as np\n",
    "\n",
    "n_cols = 2\n",
    "n_rows = 10\n",
    "df_test = pd.DataFrame(np.random.randint(1,10,(n_rows,n_cols)), columns=[f'col_{i+1}' for i in range(n_cols)])\n",
    "\n",
    "cv = LeaveOneOut()\n",
    "\n",
    "out = []\n",
    "for fold in cv.split(df_test):\n",
    "    out.append(fold)\n",
    "\n",
    "pprint(out)"
   ]
  },
  {
   "cell_type": "markdown",
   "metadata": {},
   "source": [
    "### group k-fold cross-validation\n",
    "Group k-fold cross-validation is a variation of k-fold which ensures that the same group is not represented in both testing and training sets. "
   ]
  },
  {
   "cell_type": "code",
   "execution_count": 217,
   "metadata": {},
   "outputs": [
    {
     "name": "stdout",
     "output_type": "stream",
     "text": [
      "Groups in input dataset\n",
      "[0 0 0 0 1 1 1 1 1 1 2 2 2 2 2]\n",
      "\n",
      "Output indexes arrays\n",
      "[(array([ 0,  1,  2,  3, 10, 11, 12, 13, 14]), array([4, 5, 6, 7, 8, 9])),\n",
      " (array([0, 1, 2, 3, 4, 5, 6, 7, 8, 9]), array([10, 11, 12, 13, 14])),\n",
      " (array([ 4,  5,  6,  7,  8,  9, 10, 11, 12, 13, 14]), array([0, 1, 2, 3]))]\n",
      "\n",
      "Groups in output arrays\n",
      "train: [0 0 0 0 2 2 2 2 2] | test: [1 1 1 1 1 1]\n",
      "train: [0 0 0 0 1 1 1 1 1 1] | test: [2 2 2 2 2]\n",
      "train: [1 1 1 1 1 1 2 2 2 2 2] | test: [0 0 0 0]\n"
     ]
    }
   ],
   "source": [
    "from math import floor\n",
    "import pandas as pd\n",
    "import numpy as np\n",
    "from sklearn.model_selection import GroupKFold\n",
    "from pprint import pprint\n",
    "import numpy as np\n",
    "\n",
    "n_cols = 2\n",
    "n_rows = 15\n",
    "df_test = pd.DataFrame(np.random.randint(1,10,(n_rows,n_cols)), columns=[f'col_{i+1}' for i in range(n_cols)])\n",
    "\n",
    "groups_proportions = (0.3,0.4)\n",
    "group_1_freq = floor(groups_proportions[0]*n_rows)\n",
    "group_2_freq = floor(groups_proportions[1]*n_rows)\n",
    "group_3_freq = n_rows-floor(groups_proportions[0]*n_rows)-floor(groups_proportions[1]*n_rows)\n",
    "\n",
    "df_test['groups'] = [0]*group_1_freq + [1]*group_2_freq + [2]*group_3_freq\n",
    "\n",
    "print('Groups in input dataset')\n",
    "print(df_test['groups'].values)\n",
    "\n",
    "cv = GroupKFold(n_splits=3)\n",
    "\n",
    "out = []\n",
    "for fold in cv.split(df_test, groups=df_test['groups']):\n",
    "    out.append(fold)\n",
    "\n",
    "print('\\nOutput indexes arrays')\n",
    "pprint(out)\n",
    "\n",
    "print('\\nGroups in output arrays')\n",
    "for num, o in enumerate(out):\n",
    "    train_counts, test_counts = df_test['groups'].iloc[o[0]].value_counts(), df_test['groups'].iloc[o[1]].value_counts()\n",
    "    print(f\"train: {df_test['groups'].iloc[o[0]].values} | test: {df_test['groups'].iloc[o[1]].values}\")"
   ]
  },
  {
   "cell_type": "markdown",
   "metadata": {},
   "source": [
    "Notice that the same group never appears in both the train and test splits in the same fold"
   ]
  },
  {
   "cell_type": "markdown",
   "metadata": {},
   "source": [
    "### time series split\n",
    "TimeSeriesSplit is a variation of k-fold which returns first $k$ folds as train set and the $(k+1)^{th}$ fold as test set. Note that unlike standard cross-validation methods, successive training sets are supersets of those that come before them. "
   ]
  },
  {
   "cell_type": "code",
   "execution_count": 225,
   "metadata": {},
   "outputs": [
    {
     "name": "stdout",
     "output_type": "stream",
     "text": [
      "train: [0 1 2 3 4 5] | test: [6 7 8]\n",
      "train: [0 1 2 3 4 5 6 7 8] | test: [ 9 10 11]\n",
      "train: [ 0  1  2  3  4  5  6  7  8  9 10 11] | test: [12 13 14]\n"
     ]
    }
   ],
   "source": [
    "from math import floor\n",
    "import pandas as pd\n",
    "import numpy as np\n",
    "from sklearn.model_selection import TimeSeriesSplit\n",
    "from pprint import pprint\n",
    "import numpy as np\n",
    "\n",
    "n_cols = 2\n",
    "n_rows = 15\n",
    "df_test = pd.DataFrame(np.random.randint(1,10,(n_rows,n_cols)), columns=[f'col_{i+1}' for i in range(n_cols)])\n",
    "\n",
    "cv = TimeSeriesSplit(n_splits=3, test_size=3)\n",
    "\n",
    "out = []\n",
    "for fold in cv.split(df_test):\n",
    "    out.append(fold)\n",
    "\n",
    "for o in out:\n",
    "    print(f'train: {o[0]} | test: {o[1]}')"
   ]
  }
 ],
 "metadata": {
  "kernelspec": {
   "display_name": "Python 3.7.12 ('aaamlp_env')",
   "language": "python",
   "name": "python3"
  },
  "language_info": {
   "codemirror_mode": {
    "name": "ipython",
    "version": 3
   },
   "file_extension": ".py",
   "mimetype": "text/x-python",
   "name": "python",
   "nbconvert_exporter": "python",
   "pygments_lexer": "ipython3",
   "version": "3.7.12"
  },
  "orig_nbformat": 4,
  "vscode": {
   "interpreter": {
    "hash": "c2b9b5786cfc15596cbfdff010eaa70259c035a0d8334e5aec1862f16379bc0d"
   }
  }
 },
 "nbformat": 4,
 "nbformat_minor": 2
}
