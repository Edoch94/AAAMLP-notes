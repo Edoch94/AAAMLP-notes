{
 "cells": [
  {
   "cell_type": "markdown",
   "metadata": {},
   "source": [
    "# Evaluation metrics\n",
    "The main evaluation metrics for **classification** are\n",
    "- Accuracy\n",
    "- Precision (P)\n",
    "- Recall (R)\n",
    "- F1 score (F1)\n",
    "- Area under the ROC curve (AUC)\n",
    "- Log loss\n",
    "- Precision at k (P@k)\n",
    "- Average precision at k (AP@k)\n",
    "- Mean average precision at k (MAP@k)\n",
    "\n",
    "The main evaluation metrics for **regression** are\n",
    "- Mean absolute error (MAE)\n",
    "- Mean squared error (MSE)\n",
    "- Root mean squared error (RMSE)\n",
    "- Root mean squared logarithmic error (RMSLE)\n",
    "- Mean percentage error (MPE)\n",
    "- Mean absolute percentage error (MAPE)\n",
    "- R-squared ($R^2$)"
   ]
  },
  {
   "cell_type": "markdown",
   "metadata": {},
   "source": [
    "## Classification metrics"
   ]
  },
  {
   "cell_type": "markdown",
   "metadata": {},
   "source": [
    "The 4 possible outcomes intersecting predictions and ground-truths in a binary classification problem\n",
    "- True Positives (TP)\n",
    "- True Negatives (TN)\n",
    "- False Positives (FP)\n",
    "- False Negatives (FN)"
   ]
  },
  {
   "cell_type": "markdown",
   "metadata": {},
   "source": [
    "### Accuracy\n",
    "Accuracy defines how accurate your model is, which means how many predictions where correct over the whole dataset.\n",
    "$$\\text{Accuracy}=\\frac{TP+TN}{TP+TN+FP+FN}$$"
   ]
  },
  {
   "cell_type": "code",
   "execution_count": 37,
   "metadata": {},
   "outputs": [
    {
     "data": {
      "text/plain": [
       "0.7"
      ]
     },
     "execution_count": 37,
     "metadata": {},
     "output_type": "execute_result"
    }
   ],
   "source": [
    "from sklearn.metrics import accuracy_score\n",
    "\n",
    "y_true = [1,1,1,1,1,0,0,0,0,1]\n",
    "y_pred = [1,1,1,1,1,1,1,0,0,0]\n",
    "\n",
    "accuracy_score(y_true,y_pred)"
   ]
  },
  {
   "cell_type": "markdown",
   "metadata": {},
   "source": [
    "$$TP=5 \\quad TN=2 \\quad FP=2 \\quad FN=1$$\n",
    "$$\\text{Accuracy}=\\frac{TP+TN}{TP+TN+FP+FN}=\\frac{5+3}{5+3+2+1}=0.7$$"
   ]
  },
  {
   "cell_type": "markdown",
   "metadata": {},
   "source": [
    "The main problem of accuracy is that, if the dataset is heavily imbalanced, the model might completely ignore the minority class, and keep obtaining an high accuracy value. That's generally a bad outcome, since the minority class usually is the \"interesting\" one, that is the one the user would like to correctly classify."
   ]
  },
  {
   "cell_type": "code",
   "execution_count": 3,
   "metadata": {},
   "outputs": [
    {
     "data": {
      "text/plain": [
       "0.9"
      ]
     },
     "execution_count": 3,
     "metadata": {},
     "output_type": "execute_result"
    }
   ],
   "source": [
    "from sklearn.metrics import accuracy_score\n",
    "\n",
    "y_true = [1,1,1,1,1,1,1,1,1,0]\n",
    "y_pred = [1,1,1,1,1,1,1,1,1,1]\n",
    "\n",
    "accuracy_score(y_true,y_pred)"
   ]
  },
  {
   "cell_type": "markdown",
   "metadata": {},
   "source": [
    "### Precision\n",
    "Precision represents the ability of the classifier not to label as positive a sample that is negative.\n",
    "$$\\text{Precision}=\\frac{TP}{TP+FP}$$"
   ]
  },
  {
   "cell_type": "markdown",
   "metadata": {},
   "source": [
    "In case of a **binary classification**, one class is considered \"positive\" and the precision is computed only for this class. That's the default behaviour of scikit-learn."
   ]
  },
  {
   "cell_type": "code",
   "execution_count": 72,
   "metadata": {},
   "outputs": [
    {
     "data": {
      "text/plain": [
       "0.7142857142857143"
      ]
     },
     "execution_count": 72,
     "metadata": {},
     "output_type": "execute_result"
    }
   ],
   "source": [
    "from sklearn.metrics import precision_score\n",
    "\n",
    "y_true = [1,1,1,1,1,0,0,0,0,1]\n",
    "y_pred = [1,1,1,1,1,1,1,0,0,0]\n",
    "\n",
    "precision_score(y_true, y_pred, pos_label=1, average='binary')"
   ]
  },
  {
   "cell_type": "markdown",
   "metadata": {},
   "source": [
    "$$TP=5 \\quad TN=2 \\quad FP=2 \\quad FN=1$$\n",
    "$$\\text{Precision}=\\frac{TP}{TP+FP}=\\frac{5}{5+2}=0.71$$"
   ]
  },
  {
   "cell_type": "markdown",
   "metadata": {},
   "source": [
    "In case of a **multiclass classification**, different approaches are possible:\n",
    "- micro averaged precision\n",
    "- macro averaged precision\n",
    "- weighted averaged precision"
   ]
  },
  {
   "cell_type": "markdown",
   "metadata": {},
   "source": [
    "#### Micro averaged precision\n",
    "Micro averaged precision is calculated considering the overall TP and TN, summing together TP and TN of each class"
   ]
  },
  {
   "cell_type": "code",
   "execution_count": 40,
   "metadata": {},
   "outputs": [
    {
     "data": {
      "text/plain": [
       "0.5"
      ]
     },
     "execution_count": 40,
     "metadata": {},
     "output_type": "execute_result"
    }
   ],
   "source": [
    "from sklearn.metrics import precision_score\n",
    "\n",
    "y_true = [2,1,1,1,0,0,0,0,0,1]\n",
    "y_pred = [2,2,1,1,1,1,1,0,0,0]\n",
    "\n",
    "precision_score(y_true, y_pred, average='micro')"
   ]
  },
  {
   "cell_type": "markdown",
   "metadata": {},
   "source": [
    "$$TP_{2}=1 \\quad FP_{2}=1$$\n",
    "$$TP_{1}=2 \\quad FP_{1}=3$$\n",
    "$$TP_{0}=2 \\quad FP_{0}=1$$\n",
    "\n",
    "$$TP=TP_{2}+TP_{1}+TP_{0}=1+2+2=5$$\n",
    "$$FP=FP_{2}+FP_{1}+FP_{0}=1+3+1=5$$\n",
    "$$\\text{Precision}=\\frac{TP}{TP+FP}=\\frac{5}{5+5}=0.5$$"
   ]
  },
  {
   "cell_type": "markdown",
   "metadata": {},
   "source": [
    "#### Macro averaged precision\n",
    "Macro averaged precision is calculated computing the precision for each class, and then averaging the precisions"
   ]
  },
  {
   "cell_type": "code",
   "execution_count": 41,
   "metadata": {},
   "outputs": [
    {
     "data": {
      "text/plain": [
       "0.5222222222222223"
      ]
     },
     "execution_count": 41,
     "metadata": {},
     "output_type": "execute_result"
    }
   ],
   "source": [
    "from sklearn.metrics import precision_score\n",
    "\n",
    "y_true = [2,1,1,1,0,0,0,0,0,1]\n",
    "y_pred = [2,2,1,1,1,1,1,0,0,0]\n",
    "\n",
    "precision_score(y_true, y_pred, average='macro')"
   ]
  },
  {
   "cell_type": "markdown",
   "metadata": {},
   "source": [
    "$$N_{classes}=3$$\n",
    "\n",
    "$$TP_{2}=1 \\quad FP_{2}=1$$\n",
    "$$TP_{1}=2 \\quad FP_{1}=3$$\n",
    "$$TP_{0}=2 \\quad FP_{0}=1$$\n",
    "\n",
    "$$\\text{Precision}_{2}=\\frac{TP_{2}}{TP_{2}+FP_{2}}=\\frac{1}{1+1}=\\frac{1}{2}$$\n",
    "$$\\text{Precision}_{1}=\\frac{TP_{1}}{TP_{1}+FP_{1}}=\\frac{2}{2+3}=\\frac{2}{5}$$\n",
    "$$\\text{Precision}_{0}=\\frac{TP_{0}}{TP_{0}+FP_{0}}=\\frac{2}{2+1}=\\frac{2}{3}$$\n",
    "\n",
    "$$\\text{Precision}=\\frac{\\text{Precision}_{2}+\\text{Precision}_{1}+\\text{Precision}_{0}}{N_{classes}}=\\frac{\\frac{1}{2}+\\frac{2}{5}+\\frac{2}{3}}{3}=0.522$$"
   ]
  },
  {
   "cell_type": "markdown",
   "metadata": {},
   "source": [
    "#### Weighted averaged precision\n",
    "Weighted averaged precision is calculated computing the precision for each class (as macro averaged precision), and then computing a weighted average of the precisions"
   ]
  },
  {
   "cell_type": "code",
   "execution_count": 45,
   "metadata": {},
   "outputs": [
    {
     "data": {
      "text/plain": [
       "0.5433333333333333"
      ]
     },
     "execution_count": 45,
     "metadata": {},
     "output_type": "execute_result"
    }
   ],
   "source": [
    "from sklearn.metrics import precision_score\n",
    "\n",
    "y_true = [2,1,1,1,0,0,0,0,0,1]\n",
    "y_pred = [2,2,1,1,1,1,1,0,0,0]\n",
    "\n",
    "precision_score(y_true, y_pred, average='weighted')"
   ]
  },
  {
   "cell_type": "markdown",
   "metadata": {},
   "source": [
    "$$N_{samples}=10$$\n",
    "$$N_{2}=1 \\quad w_{2}=N_{2}/N_{samples}=1/10$$\n",
    "$$N_{1}=4 \\quad w_{1}=N_{1}/N_{samples}=4/10$$\n",
    "$$N_{0}=5 \\quad w_{0}=N_{0}/N_{samples}=5/10$$\n",
    "\n",
    "$$TP_{2}=1 \\quad FP_{2}=1$$\n",
    "$$TP_{1}=2 \\quad FP_{1}=3$$\n",
    "$$TP_{0}=2 \\quad FP_{0}=1$$\n",
    "\n",
    "$$\\text{Precision}_{2}=\\frac{TP_{2}}{TP_{2}+FP_{2}}=\\frac{1}{1+1}=\\frac{1}{2}$$\n",
    "$$\\text{Precision}_{1}=\\frac{TP_{1}}{TP_{1}+FP_{1}}=\\frac{2}{2+3}=\\frac{2}{5}$$\n",
    "$$\\text{Precision}_{0}=\\frac{TP_{0}}{TP_{0}+FP_{0}}=\\frac{2}{2+1}=\\frac{2}{3}$$\n",
    "\n",
    "$$\\text{Precision}=w_{2}*\\text{Precision}_{2}+w_{1}*\\text{Precision}_{1}+w_{0}*\\text{Precision}_{0}=\\frac{1}{10}*\\frac{1}{2}+\\frac{4}{10}*\\frac{2}{5}+\\frac{5}{10}*\\frac{2}{3}=0.543$$"
   ]
  },
  {
   "cell_type": "markdown",
   "metadata": {},
   "source": [
    "### Recall\n",
    "Recall represents the ability of the classifier to find all the positive samples.\n",
    "$$\\text{Recall}=\\frac{TP}{TP+FN}$$"
   ]
  },
  {
   "cell_type": "markdown",
   "metadata": {},
   "source": [
    "In case of a binary classification, one class is considered \"positive\" and the recall is computed only for this class. That's the default behaviour of scikit-learn."
   ]
  },
  {
   "cell_type": "code",
   "execution_count": 71,
   "metadata": {},
   "outputs": [
    {
     "data": {
      "text/plain": [
       "0.8333333333333334"
      ]
     },
     "execution_count": 71,
     "metadata": {},
     "output_type": "execute_result"
    }
   ],
   "source": [
    "from sklearn.metrics import recall_score\n",
    "\n",
    "y_true = [1,1,1,1,1,0,0,0,0,1]\n",
    "y_pred = [1,1,1,1,1,1,1,0,0,0]\n",
    "\n",
    "recall_score(y_true, y_pred, pos_label=1, average='binary')"
   ]
  },
  {
   "cell_type": "markdown",
   "metadata": {},
   "source": [
    "$$TP=5 \\quad TN=2 \\quad FP=2 \\quad FN=1$$\n",
    "$$\\text{Recall}=\\frac{TP}{TP+FN}=\\frac{5}{5+1}=0.83$$"
   ]
  },
  {
   "cell_type": "markdown",
   "metadata": {},
   "source": [
    "In case of a **multiclass classification**, different approaches are possible:\n",
    "- micro averaged recall\n",
    "- macro averaged recall\n",
    "- weighted averaged recall"
   ]
  },
  {
   "cell_type": "markdown",
   "metadata": {},
   "source": [
    "#### Micro averaged recall\n",
    "Micro averaged recall is calculated considering the overall TP and FN, summing together TP and TN of each class"
   ]
  },
  {
   "cell_type": "code",
   "execution_count": 51,
   "metadata": {},
   "outputs": [
    {
     "data": {
      "text/plain": [
       "0.5"
      ]
     },
     "execution_count": 51,
     "metadata": {},
     "output_type": "execute_result"
    }
   ],
   "source": [
    "from sklearn.metrics import recall_score\n",
    "\n",
    "y_true = [2,1,1,1,0,0,0,0,0,1]\n",
    "y_pred = [2,2,1,1,1,1,1,0,0,0]\n",
    "\n",
    "recall_score(y_true, y_pred, average='micro')"
   ]
  },
  {
   "cell_type": "markdown",
   "metadata": {},
   "source": [
    "$$TP_{2}=1 \\quad FN_{2}=0$$\n",
    "$$TP_{1}=2 \\quad FN_{1}=2$$\n",
    "$$TP_{0}=2 \\quad FN_{0}=3$$\n",
    "\n",
    "$$TP=TP_{2}+TP_{1}+TP_{0}=1+2+2=5$$\n",
    "$$FN=FN_{2}+FN_{1}+FN_{0}=0+2+3=5$$\n",
    "$$\\text{Recall}=\\frac{TP}{TP+FN}=\\frac{5}{5+5}=0.5$$"
   ]
  },
  {
   "cell_type": "markdown",
   "metadata": {},
   "source": [
    "#### Macro averaged recall\n",
    "Macro averaged recall is calculated computing the recall for each class, and then averaging the recalls"
   ]
  },
  {
   "cell_type": "code",
   "execution_count": 52,
   "metadata": {},
   "outputs": [
    {
     "data": {
      "text/plain": [
       "0.6333333333333333"
      ]
     },
     "execution_count": 52,
     "metadata": {},
     "output_type": "execute_result"
    }
   ],
   "source": [
    "from sklearn.metrics import recall_score\n",
    "\n",
    "y_true = [2,1,1,1,0,0,0,0,0,1]\n",
    "y_pred = [2,2,1,1,1,1,1,0,0,0]\n",
    "\n",
    "recall_score(y_true, y_pred, average='macro')"
   ]
  },
  {
   "cell_type": "markdown",
   "metadata": {},
   "source": [
    "$$N_{classes}=3$$\n",
    "\n",
    "$$TP_{2}=1 \\quad FN_{2}=0$$\n",
    "$$TP_{1}=2 \\quad FN_{1}=2$$\n",
    "$$TP_{0}=2 \\quad FN_{0}=3$$\n",
    "\n",
    "$$\\text{Recall}_{2}=\\frac{TP_{2}}{TP_{2}+FN_{2}}=\\frac{1}{1+0}=\\frac{1}{1}$$\n",
    "$$\\text{Recall}_{1}=\\frac{TP_{1}}{TP_{1}+FN_{1}}=\\frac{2}{2+2}=\\frac{2}{4}$$\n",
    "$$\\text{Recall}_{0}=\\frac{TP_{0}}{TP_{0}+FN_{0}}=\\frac{2}{2+3}=\\frac{2}{5}$$\n",
    "\n",
    "$$\\text{Recall}=\\frac{\\text{Recall}_{2}+\\text{Recall}_{1}+\\text{Recall}_{0}}{N_{classes}}=\\frac{\\frac{1}{1}+\\frac{2}{4}+\\frac{2}{5}}{3}=0.633$$"
   ]
  },
  {
   "cell_type": "markdown",
   "metadata": {},
   "source": [
    "#### Weighted averaged recall\n",
    "Weighted averaged recall is calculated computing the recall for each class (as macro averaged recall), and then computing a weighted average of the recalls"
   ]
  },
  {
   "cell_type": "code",
   "execution_count": 54,
   "metadata": {},
   "outputs": [
    {
     "data": {
      "text/plain": [
       "0.5"
      ]
     },
     "execution_count": 54,
     "metadata": {},
     "output_type": "execute_result"
    }
   ],
   "source": [
    "from sklearn.metrics import recall_score\n",
    "\n",
    "y_true = [2,1,1,1,0,0,0,0,0,1]\n",
    "y_pred = [2,2,1,1,1,1,1,0,0,0]\n",
    "\n",
    "recall_score(y_true, y_pred, average='weighted')"
   ]
  },
  {
   "cell_type": "markdown",
   "metadata": {},
   "source": [
    "$$N_{samples}=10$$\n",
    "$$N_{2}=1 \\quad w_{2}=N_{2}/N_{samples}=1/10$$\n",
    "$$N_{1}=4 \\quad w_{1}=N_{1}/N_{samples}=4/10$$\n",
    "$$N_{0}=5 \\quad w_{0}=N_{0}/N_{samples}=5/10$$\n",
    "\n",
    "$$TP_{2}=1 \\quad FN_{2}=0$$\n",
    "$$TP_{1}=2 \\quad FN_{1}=2$$\n",
    "$$TP_{0}=2 \\quad FN_{0}=3$$\n",
    "\n",
    "$$\\text{Recall}_{2}=\\frac{TP_{2}}{TP_{2}+FN_{2}}=\\frac{1}{1+0}=\\frac{1}{1}$$\n",
    "$$\\text{Recall}_{1}=\\frac{TP_{1}}{TP_{1}+FN_{1}}=\\frac{2}{2+2}=\\frac{2}{4}$$\n",
    "$$\\text{Recall}_{0}=\\frac{TP_{0}}{TP_{0}+FN_{0}}=\\frac{2}{2+3}=\\frac{2}{5}$$\n",
    "\n",
    "$$\\text{Recall}=w_{2}*\\text{Recall}_{2}+w_{1}*\\text{Recall}_{1}+w_{0}*\\text{Recall}_{0}=\\frac{1}{10}*\\frac{1}{1}+\\frac{4}{10}*\\frac{2}{4}+\\frac{5}{10}*\\frac{2}{5}=0.5$$"
   ]
  },
  {
   "cell_type": "markdown",
   "metadata": {},
   "source": [
    "### Precision-recall curve\n",
    "Most of the models, for each data point, do not actually predict a class, rather they predict a probability of belonging to a class. It's up to the user to decide the probability threshold based on which a data point is considered part of a class or not. Then, given a threshold, precision and recall will accordingly change. At this point it is useful to visualize how they change based on different thresholds: the precision-recall value pairs obtained changing the threshold is called precision-recall curve."
   ]
  },
  {
   "cell_type": "code",
   "execution_count": 66,
   "metadata": {},
   "outputs": [
    {
     "name": "stdout",
     "output_type": "stream",
     "text": [
      "[0.625      0.57142857 0.66666667 0.75       1.         1.\n",
      " 1.        ]\n",
      "[1.  0.8 0.8 0.6 0.4 0.2 0. ]\n",
      "[0.3 0.5 0.6 0.7 0.8 0.9]\n"
     ]
    }
   ],
   "source": [
    "from sklearn.metrics import precision_recall_curve\n",
    "\n",
    "y_true = [1,1,1,1,0,0,0,0,0,1]\n",
    "y_pred_prob = [.6,.7,.8,.9,.7,.6,.5,.2,.1,.3]\n",
    "\n",
    "precisions, recalls, thresholds = precision_recall_curve(y_true, y_pred_prob)\n",
    "\n",
    "print(precisions)\n",
    "print(recalls)\n",
    "print(thresholds)"
   ]
  },
  {
   "cell_type": "code",
   "execution_count": 67,
   "metadata": {},
   "outputs": [
    {
     "data": {
      "image/png": "[encoded data removed]",
      "text/plain": [
       "<Figure size 640x480 with 1 Axes>"
      ]
     },
     "metadata": {},
     "output_type": "display_data"
    }
   ],
   "source": [
    "from sklearn.metrics import PrecisionRecallDisplay\n",
    "\n",
    "pr_display = PrecisionRecallDisplay(precisions,recalls).plot()"
   ]
  },
  {
   "cell_type": "markdown",
   "metadata": {},
   "source": [
    "These plots show the trade-off between precision and recall: maximizing one means minimizing the other."
   ]
  },
  {
   "cell_type": "markdown",
   "metadata": {},
   "source": [
    "### F1 score\n",
    "Since a trade-off between precision and recall must be found, a compound metric come into help, that is the F1 score. The F1 score is defined as a weighted average (in particular, a **harmonic mean**) between precision and recall.\n",
    "$$\\text{F1}=\\frac{2*\\text{Precision}*\\text{Recall}}{\\text{Precision}+\\text{Recall}}=\\frac{2*TP}{2*TP+FP+FN}$$"
   ]
  },
  {
   "cell_type": "markdown",
   "metadata": {},
   "source": [
    "In case of a **binary classification**, one class is considered \"positive\" and the precision is computed only for this class. That's the default behaviour of scikit-learn."
   ]
  },
  {
   "cell_type": "code",
   "execution_count": 73,
   "metadata": {},
   "outputs": [
    {
     "data": {
      "text/plain": [
       "0.7692307692307692"
      ]
     },
     "execution_count": 73,
     "metadata": {},
     "output_type": "execute_result"
    }
   ],
   "source": [
    "from sklearn.metrics import f1_score\n",
    "\n",
    "y_true = [1,1,1,1,1,0,0,0,0,1]\n",
    "y_pred = [1,1,1,1,1,1,1,0,0,0]\n",
    "\n",
    "f1_score(y_true, y_pred)"
   ]
  },
  {
   "cell_type": "markdown",
   "metadata": {},
   "source": [
    "$$TP=5 \\quad TN=2 \\quad FP=2 \\quad FN=1$$\n",
    "$$\\text{Precision}=\\frac{TP}{TP+FP}=\\frac{5}{5+2}=0.71$$\n",
    "$$\\text{Recall}=\\frac{TP}{TP+FN}=\\frac{5}{5+1}=0.83$$\n",
    "$$\\text{F1}=\\frac{2*\\text{Precision}*\\text{Recall}}{\\text{Precision}+\\text{Recall}}=\\frac{2*0.71*0.83}{0.71+0.83}=0.76$$"
   ]
  },
  {
   "cell_type": "markdown",
   "metadata": {},
   "source": [
    "In case of a **multiclass classification**, different approaches are possible:\n",
    "- micro averaged f1 score\n",
    "- macro averaged f1 score\n",
    "- weighted averaged f1 score\n",
    "\n",
    "These methods follow what said concerning the analogous precision and recall approaches."
   ]
  },
  {
   "cell_type": "markdown",
   "metadata": {},
   "source": [
    "### ROC curve and AUC\n",
    "- **True positive rate** (TPR): sensitivity; same as recall\n",
    "- **False positive rate** (FPR): type I error rate. In terms of the courtroom example, a type I error corresponds to convicting an innocent defendant, i.e. considering him guilty (positive) insted of innocent (the default, negative).\n",
    "- **True negative rate** (TNR): specificity\n",
    "- **False negative rate** (FPR): type II error rate. In terms of the courtroom example, a type II error corresponds to acquitting a criminal, i.e. considering him innocent (the default, negative) insted of guilty (positive).\n",
    "\n",
    "Similarly to what's done with the precision-recall curve, it is interesting to compute the **Receiver Operating Characteristic** (ROC), that is composed of value-pairs of TPR and FPR considering different values for the threshold."
   ]
  },
  {
   "cell_type": "code",
   "execution_count": 97,
   "metadata": {},
   "outputs": [
    {
     "name": "stdout",
     "output_type": "stream",
     "text": [
      "[0.  0.2 0.4 0.8 0.8 1.  1. ]\n",
      "[0.  0.  0.  0.4 0.6 0.6 1. ]\n",
      "[1.9 0.9 0.8 0.6 0.5 0.3 0.1]\n"
     ]
    }
   ],
   "source": [
    "from sklearn.metrics import roc_curve\n",
    "\n",
    "y_true = [1,1,1,1,0,0,0,0,0,1]\n",
    "y_pred_prob = [.6,.7,.8,.9,.7,.6,.5,.2,.1,.3]\n",
    "\n",
    "fpr, tpr, thresholds = roc_curve(y_true=y_true, y_score=y_pred_prob,pos_label=1)\n",
    "\n",
    "print(tpr)\n",
    "print(fpr)\n",
    "print(thresholds)"
   ]
  },
  {
   "cell_type": "code",
   "execution_count": 98,
   "metadata": {},
   "outputs": [
    {
     "data": {
      "image/png": "[encoded data removed]",
      "text/plain": [
       "<Figure size 640x480 with 1 Axes>"
      ]
     },
     "metadata": {},
     "output_type": "display_data"
    }
   ],
   "source": [
    "from sklearn.metrics import RocCurveDisplay\n",
    "\n",
    "pr_display = RocCurveDisplay(tpr=tpr,fpr=fpr).plot()"
   ]
  },
  {
   "cell_type": "markdown",
   "metadata": {},
   "source": [
    "Looking at the example plot, the best threshold seems to be $0.6$: it corresponds to a good trade-off between the TPR maximization ($TPR=0.8$) and the FPR minimization ($FPR=0.4$).\n",
    "\n",
    "This curve is very informative: if the curve lies below the diagonal, it means that the values predicted by the estimator are worse than they would be if they were randomly drawn from a uniform distribution.\n",
    "\n",
    "A metric that more concisely hints the same information is the **Area Under the Curve** (AUC). Indeed, if the area below the curve is less than 0.5, then the predicted values are worse than they would be if they were randomly drawn from a uniform distribution. "
   ]
  },
  {
   "cell_type": "code",
   "execution_count": 99,
   "metadata": {},
   "outputs": [
    {
     "name": "stdout",
     "output_type": "stream",
     "text": [
      "0.8\n"
     ]
    }
   ],
   "source": [
    "from sklearn.metrics import roc_auc_score\n",
    "\n",
    "y_true = [1,1,1,1,0,0,0,0,0,1]\n",
    "y_pred_prob = [.6,.7,.8,.9,.7,.6,.5,.2,.1,.3]\n",
    "\n",
    "auc = roc_auc_score(y_true, y_pred_prob)\n",
    "\n",
    "print(auc)"
   ]
  }
 ],
 "metadata": {
  "kernelspec": {
   "display_name": "Python 3.7.12 ('aaamlp_env')",
   "language": "python",
   "name": "python3"
  },
  "language_info": {
   "codemirror_mode": {
    "name": "ipython",
    "version": 3
   },
   "file_extension": ".py",
   "mimetype": "text/x-python",
   "name": "python",
   "nbconvert_exporter": "python",
   "pygments_lexer": "ipython3",
   "version": "3.7.12"
  },
  "orig_nbformat": 4,
  "vscode": {
   "interpreter": {
    "hash": "c2b9b5786cfc15596cbfdff010eaa70259c035a0d8334e5aec1862f16379bc0d"
   }
  }
 },
 "nbformat": 4,
 "nbformat_minor": 2
}
