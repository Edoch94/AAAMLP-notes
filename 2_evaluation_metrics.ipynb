{
 "cells": [
  {
   "cell_type": "markdown",
   "metadata": {},
   "source": [
    "# Evaluation metrics\n",
    "The main evaluation metrics for **classification** are\n",
    "- Accuracy\n",
    "- Precision (P)\n",
    "- Recall (R)\n",
    "- F1 score (F1)\n",
    "- Area under the ROC curve (AUC)\n",
    "- Log loss\n",
    "- Precision at k (P@k)\n",
    "- Average precision at k (AP@k)\n",
    "- Mean average precision at k (MAP@k)\n",
    "\n",
    "The main evaluation metrics for **regression** are\n",
    "- Mean absolute error (MAE)\n",
    "- Mean squared error (MSE)\n",
    "- Root mean squared error (RMSE)\n",
    "- Root mean squared logarithmic error (RMSLE)\n",
    "- Mean percentage error (MPE)\n",
    "- Mean absolute percentage error (MAPE)\n",
    "- R-squared ($R^2$)"
   ]
  },
  {
   "cell_type": "markdown",
   "metadata": {},
   "source": [
    "## Binary and multi-class classification metrics"
   ]
  },
  {
   "cell_type": "markdown",
   "metadata": {},
   "source": [
    "The 4 possible outcomes intersecting predictions and ground-truths in a binary classification problem\n",
    "- True Positives (TP)\n",
    "- True Negatives (TN)\n",
    "- False Positives (FP)\n",
    "- False Negatives (FN)"
   ]
  },
  {
   "cell_type": "markdown",
   "metadata": {},
   "source": [
    "### Accuracy\n",
    "Accuracy defines how accurate your model is, which means how many predictions where correct over the whole dataset.\n",
    "$$\\text{Accuracy}=\\frac{TP+TN}{TP+TN+FP+FN}$$"
   ]
  },
  {
   "cell_type": "code",
   "execution_count": 2,
   "metadata": {},
   "outputs": [
    {
     "data": {
      "text/plain": [
       "0.7"
      ]
     },
     "execution_count": 2,
     "metadata": {},
     "output_type": "execute_result"
    }
   ],
   "source": [
    "from sklearn.metrics import accuracy_score\n",
    "\n",
    "y_true = [1,1,1,1,1,0,0,0,0,1]\n",
    "y_pred = [1,1,1,1,1,1,1,0,0,0]\n",
    "\n",
    "accuracy_score(y_true,y_pred)"
   ]
  },
  {
   "cell_type": "markdown",
   "metadata": {},
   "source": [
    "$$TP=5 \\quad TN=2 \\quad FP=2 \\quad FN=1$$\n",
    "$$\\text{Accuracy}=\\frac{TP+TN}{TP+TN+FP+FN}=\\frac{5+3}{5+3+2+1}=0.7$$"
   ]
  },
  {
   "cell_type": "markdown",
   "metadata": {},
   "source": [
    "The main problem of accuracy is that, if the dataset is heavily imbalanced, the model might completely ignore the minority class, and keep obtaining an high accuracy value. That's generally a bad outcome, since the minority class usually is the \"interesting\" one, that is the one the user would like to correctly classify."
   ]
  },
  {
   "cell_type": "code",
   "execution_count": 3,
   "metadata": {},
   "outputs": [
    {
     "data": {
      "text/plain": [
       "0.9"
      ]
     },
     "execution_count": 3,
     "metadata": {},
     "output_type": "execute_result"
    }
   ],
   "source": [
    "from sklearn.metrics import accuracy_score\n",
    "\n",
    "y_true = [1,1,1,1,1,1,1,1,1,0]\n",
    "y_pred = [1,1,1,1,1,1,1,1,1,1]\n",
    "\n",
    "accuracy_score(y_true,y_pred)"
   ]
  },
  {
   "cell_type": "markdown",
   "metadata": {},
   "source": [
    "### Precision\n",
    "Precision represents the ability of the classifier not to label as positive a sample that is negative.\n",
    "$$\\text{Precision}=\\frac{TP}{TP+FP}$$"
   ]
  },
  {
   "cell_type": "markdown",
   "metadata": {},
   "source": [
    "In case of a **binary classification**, one class is considered \"positive\" and the precision is computed only for this class. That's the default behaviour of scikit-learn."
   ]
  },
  {
   "cell_type": "code",
   "execution_count": 4,
   "metadata": {},
   "outputs": [
    {
     "data": {
      "text/plain": [
       "0.7142857142857143"
      ]
     },
     "execution_count": 4,
     "metadata": {},
     "output_type": "execute_result"
    }
   ],
   "source": [
    "from sklearn.metrics import precision_score\n",
    "\n",
    "y_true = [1,1,1,1,1,0,0,0,0,1]\n",
    "y_pred = [1,1,1,1,1,1,1,0,0,0]\n",
    "\n",
    "precision_score(y_true, y_pred, pos_label=1, average='binary')"
   ]
  },
  {
   "cell_type": "markdown",
   "metadata": {},
   "source": [
    "$$TP=5 \\quad TN=2 \\quad FP=2 \\quad FN=1$$\n",
    "$$\\text{Precision}=\\frac{TP}{TP+FP}=\\frac{5}{5+2}=0.71$$"
   ]
  },
  {
   "cell_type": "markdown",
   "metadata": {},
   "source": [
    "In case of a **multiclass classification**, different approaches are possible:\n",
    "- micro averaged precision\n",
    "- macro averaged precision\n",
    "- weighted averaged precision"
   ]
  },
  {
   "cell_type": "markdown",
   "metadata": {},
   "source": [
    "#### Micro averaged precision\n",
    "Micro averaged precision is calculated considering the overall TP and TN, summing together TP and TN of each class"
   ]
  },
  {
   "cell_type": "code",
   "execution_count": 5,
   "metadata": {},
   "outputs": [
    {
     "data": {
      "text/plain": [
       "0.5"
      ]
     },
     "execution_count": 5,
     "metadata": {},
     "output_type": "execute_result"
    }
   ],
   "source": [
    "from sklearn.metrics import precision_score\n",
    "\n",
    "y_true = [2,1,1,1,0,0,0,0,0,1]\n",
    "y_pred = [2,2,1,1,1,1,1,0,0,0]\n",
    "\n",
    "precision_score(y_true, y_pred, average='micro')"
   ]
  },
  {
   "cell_type": "markdown",
   "metadata": {},
   "source": [
    "$$TP_{2}=1 \\quad FP_{2}=1$$\n",
    "$$TP_{1}=2 \\quad FP_{1}=3$$\n",
    "$$TP_{0}=2 \\quad FP_{0}=1$$\n",
    "\n",
    "$$TP=TP_{2}+TP_{1}+TP_{0}=1+2+2=5$$\n",
    "$$FP=FP_{2}+FP_{1}+FP_{0}=1+3+1=5$$\n",
    "$$\\text{Precision}=\\frac{TP}{TP+FP}=\\frac{5}{5+5}=0.5$$"
   ]
  },
  {
   "cell_type": "markdown",
   "metadata": {},
   "source": [
    "#### Macro averaged precision\n",
    "Macro averaged precision is calculated computing the precision for each class, and then averaging the precisions"
   ]
  },
  {
   "cell_type": "code",
   "execution_count": 6,
   "metadata": {},
   "outputs": [
    {
     "data": {
      "text/plain": [
       "0.5222222222222223"
      ]
     },
     "execution_count": 6,
     "metadata": {},
     "output_type": "execute_result"
    }
   ],
   "source": [
    "from sklearn.metrics import precision_score\n",
    "\n",
    "y_true = [2,1,1,1,0,0,0,0,0,1]\n",
    "y_pred = [2,2,1,1,1,1,1,0,0,0]\n",
    "\n",
    "precision_score(y_true, y_pred, average='macro')"
   ]
  },
  {
   "cell_type": "markdown",
   "metadata": {},
   "source": [
    "$$N_{classes}=3$$\n",
    "\n",
    "$$TP_{2}=1 \\quad FP_{2}=1$$\n",
    "$$TP_{1}=2 \\quad FP_{1}=3$$\n",
    "$$TP_{0}=2 \\quad FP_{0}=1$$\n",
    "\n",
    "$$\\text{Precision}_{2}=\\frac{TP_{2}}{TP_{2}+FP_{2}}=\\frac{1}{1+1}=\\frac{1}{2}$$\n",
    "$$\\text{Precision}_{1}=\\frac{TP_{1}}{TP_{1}+FP_{1}}=\\frac{2}{2+3}=\\frac{2}{5}$$\n",
    "$$\\text{Precision}_{0}=\\frac{TP_{0}}{TP_{0}+FP_{0}}=\\frac{2}{2+1}=\\frac{2}{3}$$\n",
    "\n",
    "$$\\text{Precision}=\\frac{\\text{Precision}_{2}+\\text{Precision}_{1}+\\text{Precision}_{0}}{N_{classes}}=\\frac{\\frac{1}{2}+\\frac{2}{5}+\\frac{2}{3}}{3}=0.522$$"
   ]
  },
  {
   "cell_type": "markdown",
   "metadata": {},
   "source": [
    "#### Weighted averaged precision\n",
    "Weighted averaged precision is calculated computing the precision for each class (as macro averaged precision), and then computing a weighted average of the precisions"
   ]
  },
  {
   "cell_type": "code",
   "execution_count": 7,
   "metadata": {},
   "outputs": [
    {
     "data": {
      "text/plain": [
       "0.5433333333333333"
      ]
     },
     "execution_count": 7,
     "metadata": {},
     "output_type": "execute_result"
    }
   ],
   "source": [
    "from sklearn.metrics import precision_score\n",
    "\n",
    "y_true = [2,1,1,1,0,0,0,0,0,1]\n",
    "y_pred = [2,2,1,1,1,1,1,0,0,0]\n",
    "\n",
    "precision_score(y_true, y_pred, average='weighted')"
   ]
  },
  {
   "cell_type": "markdown",
   "metadata": {},
   "source": [
    "$$N_{samples}=10$$\n",
    "$$N_{2}=1 \\quad w_{2}=N_{2}/N_{samples}=1/10$$\n",
    "$$N_{1}=4 \\quad w_{1}=N_{1}/N_{samples}=4/10$$\n",
    "$$N_{0}=5 \\quad w_{0}=N_{0}/N_{samples}=5/10$$\n",
    "\n",
    "$$TP_{2}=1 \\quad FP_{2}=1$$\n",
    "$$TP_{1}=2 \\quad FP_{1}=3$$\n",
    "$$TP_{0}=2 \\quad FP_{0}=1$$\n",
    "\n",
    "$$\\text{Precision}_{2}=\\frac{TP_{2}}{TP_{2}+FP_{2}}=\\frac{1}{1+1}=\\frac{1}{2}$$\n",
    "$$\\text{Precision}_{1}=\\frac{TP_{1}}{TP_{1}+FP_{1}}=\\frac{2}{2+3}=\\frac{2}{5}$$\n",
    "$$\\text{Precision}_{0}=\\frac{TP_{0}}{TP_{0}+FP_{0}}=\\frac{2}{2+1}=\\frac{2}{3}$$\n",
    "\n",
    "$$\\text{Precision}=w_{2}*\\text{Precision}_{2}+w_{1}*\\text{Precision}_{1}+w_{0}*\\text{Precision}_{0}=\\frac{1}{10}*\\frac{1}{2}+\\frac{4}{10}*\\frac{2}{5}+\\frac{5}{10}*\\frac{2}{3}=0.543$$"
   ]
  },
  {
   "cell_type": "markdown",
   "metadata": {},
   "source": [
    "### Recall\n",
    "Recall represents the ability of the classifier to find all the positive samples.\n",
    "$$\\text{Recall}=\\frac{TP}{TP+FN}$$"
   ]
  },
  {
   "cell_type": "markdown",
   "metadata": {},
   "source": [
    "In case of a binary classification, one class is considered \"positive\" and the recall is computed only for this class. That's the default behaviour of scikit-learn."
   ]
  },
  {
   "cell_type": "code",
   "execution_count": 8,
   "metadata": {},
   "outputs": [
    {
     "data": {
      "text/plain": [
       "0.8333333333333334"
      ]
     },
     "execution_count": 8,
     "metadata": {},
     "output_type": "execute_result"
    }
   ],
   "source": [
    "from sklearn.metrics import recall_score\n",
    "\n",
    "y_true = [1,1,1,1,1,0,0,0,0,1]\n",
    "y_pred = [1,1,1,1,1,1,1,0,0,0]\n",
    "\n",
    "recall_score(y_true, y_pred, pos_label=1, average='binary')"
   ]
  },
  {
   "cell_type": "markdown",
   "metadata": {},
   "source": [
    "$$TP=5 \\quad TN=2 \\quad FP=2 \\quad FN=1$$\n",
    "$$\\text{Recall}=\\frac{TP}{TP+FN}=\\frac{5}{5+1}=0.83$$"
   ]
  },
  {
   "cell_type": "markdown",
   "metadata": {},
   "source": [
    "In case of a **multiclass classification**, different approaches are possible:\n",
    "- micro averaged recall\n",
    "- macro averaged recall\n",
    "- weighted averaged recall"
   ]
  },
  {
   "cell_type": "markdown",
   "metadata": {},
   "source": [
    "#### Micro averaged recall\n",
    "Micro averaged recall is calculated considering the overall TP and FN, summing together TP and TN of each class"
   ]
  },
  {
   "cell_type": "code",
   "execution_count": 9,
   "metadata": {},
   "outputs": [
    {
     "data": {
      "text/plain": [
       "0.5"
      ]
     },
     "execution_count": 9,
     "metadata": {},
     "output_type": "execute_result"
    }
   ],
   "source": [
    "from sklearn.metrics import recall_score\n",
    "\n",
    "y_true = [2,1,1,1,0,0,0,0,0,1]\n",
    "y_pred = [2,2,1,1,1,1,1,0,0,0]\n",
    "\n",
    "recall_score(y_true, y_pred, average='micro')"
   ]
  },
  {
   "cell_type": "markdown",
   "metadata": {},
   "source": [
    "$$TP_{2}=1 \\quad FN_{2}=0$$\n",
    "$$TP_{1}=2 \\quad FN_{1}=2$$\n",
    "$$TP_{0}=2 \\quad FN_{0}=3$$\n",
    "\n",
    "$$TP=TP_{2}+TP_{1}+TP_{0}=1+2+2=5$$\n",
    "$$FN=FN_{2}+FN_{1}+FN_{0}=0+2+3=5$$\n",
    "$$\\text{Recall}=\\frac{TP}{TP+FN}=\\frac{5}{5+5}=0.5$$"
   ]
  },
  {
   "cell_type": "markdown",
   "metadata": {},
   "source": [
    "#### Macro averaged recall\n",
    "Macro averaged recall is calculated computing the recall for each class, and then averaging the recalls"
   ]
  },
  {
   "cell_type": "code",
   "execution_count": 10,
   "metadata": {},
   "outputs": [
    {
     "data": {
      "text/plain": [
       "0.6333333333333333"
      ]
     },
     "execution_count": 10,
     "metadata": {},
     "output_type": "execute_result"
    }
   ],
   "source": [
    "from sklearn.metrics import recall_score\n",
    "\n",
    "y_true = [2,1,1,1,0,0,0,0,0,1]\n",
    "y_pred = [2,2,1,1,1,1,1,0,0,0]\n",
    "\n",
    "recall_score(y_true, y_pred, average='macro')"
   ]
  },
  {
   "cell_type": "markdown",
   "metadata": {},
   "source": [
    "$$N_{classes}=3$$\n",
    "\n",
    "$$TP_{2}=1 \\quad FN_{2}=0$$\n",
    "$$TP_{1}=2 \\quad FN_{1}=2$$\n",
    "$$TP_{0}=2 \\quad FN_{0}=3$$\n",
    "\n",
    "$$\\text{Recall}_{2}=\\frac{TP_{2}}{TP_{2}+FN_{2}}=\\frac{1}{1+0}=\\frac{1}{1}$$\n",
    "$$\\text{Recall}_{1}=\\frac{TP_{1}}{TP_{1}+FN_{1}}=\\frac{2}{2+2}=\\frac{2}{4}$$\n",
    "$$\\text{Recall}_{0}=\\frac{TP_{0}}{TP_{0}+FN_{0}}=\\frac{2}{2+3}=\\frac{2}{5}$$\n",
    "\n",
    "$$\\text{Recall}=\\frac{\\text{Recall}_{2}+\\text{Recall}_{1}+\\text{Recall}_{0}}{N_{classes}}=\\frac{\\frac{1}{1}+\\frac{2}{4}+\\frac{2}{5}}{3}=0.633$$"
   ]
  },
  {
   "cell_type": "markdown",
   "metadata": {},
   "source": [
    "#### Weighted averaged recall\n",
    "Weighted averaged recall is calculated computing the recall for each class (as macro averaged recall), and then computing a weighted average of the recalls"
   ]
  },
  {
   "cell_type": "code",
   "execution_count": 11,
   "metadata": {},
   "outputs": [
    {
     "data": {
      "text/plain": [
       "0.5"
      ]
     },
     "execution_count": 11,
     "metadata": {},
     "output_type": "execute_result"
    }
   ],
   "source": [
    "from sklearn.metrics import recall_score\n",
    "\n",
    "y_true = [2,1,1,1,0,0,0,0,0,1]\n",
    "y_pred = [2,2,1,1,1,1,1,0,0,0]\n",
    "\n",
    "recall_score(y_true, y_pred, average='weighted')"
   ]
  },
  {
   "cell_type": "markdown",
   "metadata": {},
   "source": [
    "$$N_{samples}=10$$\n",
    "$$N_{2}=1 \\quad w_{2}=N_{2}/N_{samples}=1/10$$\n",
    "$$N_{1}=4 \\quad w_{1}=N_{1}/N_{samples}=4/10$$\n",
    "$$N_{0}=5 \\quad w_{0}=N_{0}/N_{samples}=5/10$$\n",
    "\n",
    "$$TP_{2}=1 \\quad FN_{2}=0$$\n",
    "$$TP_{1}=2 \\quad FN_{1}=2$$\n",
    "$$TP_{0}=2 \\quad FN_{0}=3$$\n",
    "\n",
    "$$\\text{Recall}_{2}=\\frac{TP_{2}}{TP_{2}+FN_{2}}=\\frac{1}{1+0}=\\frac{1}{1}$$\n",
    "$$\\text{Recall}_{1}=\\frac{TP_{1}}{TP_{1}+FN_{1}}=\\frac{2}{2+2}=\\frac{2}{4}$$\n",
    "$$\\text{Recall}_{0}=\\frac{TP_{0}}{TP_{0}+FN_{0}}=\\frac{2}{2+3}=\\frac{2}{5}$$\n",
    "\n",
    "$$\\text{Recall}=w_{2}*\\text{Recall}_{2}+w_{1}*\\text{Recall}_{1}+w_{0}*\\text{Recall}_{0}=\\frac{1}{10}*\\frac{1}{1}+\\frac{4}{10}*\\frac{2}{4}+\\frac{5}{10}*\\frac{2}{5}=0.5$$"
   ]
  },
  {
   "cell_type": "markdown",
   "metadata": {},
   "source": [
    "### Precision-recall curve\n",
    "Most of the models, for each data point, do not actually predict a class, rather they predict a probability of belonging to a class. It's up to the user to decide the probability threshold based on which a data point is considered part of a class or not. Then, given a threshold, precision and recall will accordingly change. At this point it is useful to visualize how they change based on different thresholds: the precision-recall value pairs obtained changing the threshold is called precision-recall curve."
   ]
  },
  {
   "cell_type": "code",
   "execution_count": 12,
   "metadata": {},
   "outputs": [
    {
     "name": "stdout",
     "output_type": "stream",
     "text": [
      "[0.625      0.57142857 0.66666667 0.75       1.         1.\n",
      " 1.        ]\n",
      "[1.  0.8 0.8 0.6 0.4 0.2 0. ]\n",
      "[0.3 0.5 0.6 0.7 0.8 0.9]\n"
     ]
    }
   ],
   "source": [
    "from sklearn.metrics import precision_recall_curve\n",
    "\n",
    "y_true = [1,1,1,1,0,0,0,0,0,1]\n",
    "y_pred_prob = [.6,.7,.8,.9,.7,.6,.5,.2,.1,.3]\n",
    "\n",
    "precisions, recalls, thresholds = precision_recall_curve(y_true, y_pred_prob)\n",
    "\n",
    "print(precisions)\n",
    "print(recalls)\n",
    "print(thresholds)"
   ]
  },
  {
   "cell_type": "code",
   "execution_count": 13,
   "metadata": {},
   "outputs": [
    {
     "data": {
      "image/png": "[encoded data removed]",
      "text/plain": [
       "<Figure size 640x480 with 1 Axes>"
      ]
     },
     "metadata": {},
     "output_type": "display_data"
    }
   ],
   "source": [
    "from sklearn.metrics import PrecisionRecallDisplay\n",
    "\n",
    "pr_display = PrecisionRecallDisplay(precisions,recalls).plot()"
   ]
  },
  {
   "cell_type": "markdown",
   "metadata": {},
   "source": [
    "These plots show the trade-off between precision and recall: maximizing one means minimizing the other."
   ]
  },
  {
   "cell_type": "markdown",
   "metadata": {},
   "source": [
    "### F1 score\n",
    "Since a trade-off between precision and recall must be found, a compound metric come into help, that is the F1 score. The F1 score is defined as a weighted average (in particular, a **harmonic mean**) between precision and recall.\n",
    "$$\\text{F1}=\\frac{2*\\text{Precision}*\\text{Recall}}{\\text{Precision}+\\text{Recall}}=\\frac{2*TP}{2*TP+FP+FN}$$"
   ]
  },
  {
   "cell_type": "markdown",
   "metadata": {},
   "source": [
    "In case of a **binary classification**, one class is considered \"positive\" and the precision is computed only for this class. That's the default behaviour of scikit-learn."
   ]
  },
  {
   "cell_type": "code",
   "execution_count": 14,
   "metadata": {},
   "outputs": [
    {
     "data": {
      "text/plain": [
       "0.7692307692307692"
      ]
     },
     "execution_count": 14,
     "metadata": {},
     "output_type": "execute_result"
    }
   ],
   "source": [
    "from sklearn.metrics import f1_score\n",
    "\n",
    "y_true = [1,1,1,1,1,0,0,0,0,1]\n",
    "y_pred = [1,1,1,1,1,1,1,0,0,0]\n",
    "\n",
    "f1_score(y_true, y_pred)"
   ]
  },
  {
   "cell_type": "markdown",
   "metadata": {},
   "source": [
    "$$TP=5 \\quad TN=2 \\quad FP=2 \\quad FN=1$$\n",
    "$$\\text{Precision}=\\frac{TP}{TP+FP}=\\frac{5}{5+2}=0.71$$\n",
    "$$\\text{Recall}=\\frac{TP}{TP+FN}=\\frac{5}{5+1}=0.83$$\n",
    "$$\\text{F1}=\\frac{2*\\text{Precision}*\\text{Recall}}{\\text{Precision}+\\text{Recall}}=\\frac{2*0.71*0.83}{0.71+0.83}=0.76$$"
   ]
  },
  {
   "cell_type": "markdown",
   "metadata": {},
   "source": [
    "In case of a **multiclass classification**, different approaches are possible:\n",
    "- micro averaged f1 score\n",
    "- macro averaged f1 score\n",
    "- weighted averaged f1 score\n",
    "\n",
    "These methods follow what said concerning the analogous precision and recall approaches."
   ]
  },
  {
   "cell_type": "markdown",
   "metadata": {},
   "source": [
    "### ROC curve and AUC\n",
    "- **True positive rate** (TPR): sensitivity; same as recall\n",
    "- **False positive rate** (FPR): type I error rate. In terms of the courtroom example, a type I error corresponds to convicting an innocent defendant, i.e. considering him guilty (positive) insted of innocent (the default, negative).\n",
    "- **True negative rate** (TNR): specificity\n",
    "- **False negative rate** (FPR): type II error rate. In terms of the courtroom example, a type II error corresponds to acquitting a criminal, i.e. considering him innocent (the default, negative) insted of guilty (positive).\n",
    "\n",
    "Similarly to what's done with the precision-recall curve, it is interesting to compute the **Receiver Operating Characteristic** (ROC), that is composed of value-pairs of TPR and FPR considering different values for the threshold."
   ]
  },
  {
   "cell_type": "code",
   "execution_count": 15,
   "metadata": {},
   "outputs": [
    {
     "name": "stdout",
     "output_type": "stream",
     "text": [
      "[0.  0.2 0.4 0.8 0.8 1.  1. ]\n",
      "[0.  0.  0.  0.4 0.6 0.6 1. ]\n",
      "[1.9 0.9 0.8 0.6 0.5 0.3 0.1]\n"
     ]
    }
   ],
   "source": [
    "from sklearn.metrics import roc_curve\n",
    "\n",
    "y_true = [1,1,1,1,0,0,0,0,0,1]\n",
    "y_pred_prob = [.6,.7,.8,.9,.7,.6,.5,.2,.1,.3]\n",
    "\n",
    "fpr, tpr, thresholds = roc_curve(y_true=y_true, y_score=y_pred_prob,pos_label=1)\n",
    "\n",
    "print(tpr)\n",
    "print(fpr)\n",
    "print(thresholds)"
   ]
  },
  {
   "cell_type": "code",
   "execution_count": 16,
   "metadata": {},
   "outputs": [
    {
     "data": {
      "image/png": "[encoded data removed]",
      "text/plain": [
       "<Figure size 640x480 with 1 Axes>"
      ]
     },
     "metadata": {},
     "output_type": "display_data"
    }
   ],
   "source": [
    "from sklearn.metrics import RocCurveDisplay\n",
    "\n",
    "pr_display = RocCurveDisplay(tpr=tpr,fpr=fpr).plot()"
   ]
  },
  {
   "cell_type": "markdown",
   "metadata": {},
   "source": [
    "Looking at the example plot, the best threshold seems to be $0.6$: it corresponds to a good trade-off between the TPR maximization ($TPR=0.8$) and the FPR minimization ($FPR=0.4$).\n",
    "\n",
    "This curve is very informative: if the curve on the diagonal, it means that the values predicted by the estimator are of the same quality as they would be if they were randomly drawn from a uniform distribution.\n",
    "\n",
    "A metric that more concisely hints the same information is the **Area Under the Curve** (AUC). Indeed, if the area below the curve equal to $0.5$, then the predicted values are of the same quality as they would be if they were randomly drawn from a uniform distribution. \n",
    "\n",
    "In general, AUC allows to assess how a model is good\n",
    "- AUC close to $1$: the model is perfect (maybe to good to be true)\n",
    "- AUC close to $0.5$: \n",
    "- AUC close to $0$: the model is awful, but actually is perfect (maybe to good to be true); indeed, if AUC=$0$, this means that the parameters are so bad, that they can be substituted with their opposite and have the a perfect model"
   ]
  },
  {
   "cell_type": "code",
   "execution_count": 18,
   "metadata": {},
   "outputs": [
    {
     "data": {
      "text/plain": [
       "0.8"
      ]
     },
     "execution_count": 18,
     "metadata": {},
     "output_type": "execute_result"
    }
   ],
   "source": [
    "from sklearn.metrics import roc_auc_score\n",
    "\n",
    "y_true = [1,1,1,1,0,0,0,0,0,1]\n",
    "y_pred_prob = [.6,.7,.8,.9,.7,.6,.5,.2,.1,.3]\n",
    "\n",
    "roc_auc_score(y_true, y_pred_prob)"
   ]
  },
  {
   "cell_type": "markdown",
   "metadata": {},
   "source": [
    "### Log loss\n",
    "Log loss is used in case of binary classification, and uses as input the ground truth $y$ (`y_true`, the *target*) and the prediction probabilities $p$ (`y_pred_prob`). It penalizes for very wrong predictions: it punishes being very sure but wrong.\n",
    "$$\\text{log loss}=-y*\\log{(p)-(1-y)*\\log{(1-p)}}$$\n",
    "Notice that the equation is computed on a single sample, to compute the log loss of an entire dataset just calculate the log loss of each single sample and then take the average.\n",
    "\n",
    "Obviously, since it is a loss, it measures the distance between the ground truth and the predictions, so the smaller the better.\n",
    "\n",
    "A great advantage of using log loss is that it is a derivable function, unlike previous metrics."
   ]
  },
  {
   "cell_type": "markdown",
   "metadata": {},
   "source": [
    "Results with correct and sure predictions "
   ]
  },
  {
   "cell_type": "code",
   "execution_count": 21,
   "metadata": {},
   "outputs": [
    {
     "data": {
      "text/plain": [
       "0.1053605156578263"
      ]
     },
     "execution_count": 21,
     "metadata": {},
     "output_type": "execute_result"
    }
   ],
   "source": [
    "from sklearn.metrics import log_loss\n",
    "\n",
    "y_true = [1,1,1,1,1,0,0,0,0,0]\n",
    "y_pred_prob = [.9,.9,.9,.9,.9,.1,.1,.1,.1,.1]\n",
    "\n",
    "log_loss(y_true, y_pred_prob)"
   ]
  },
  {
   "cell_type": "markdown",
   "metadata": {},
   "source": [
    "$$N_{samples}=10$$\n",
    "$$\\text{for } i \\text{ in } [0,4]: \\quad \\text{log loss}_{i}=-y_i*\\log{(p_i)-(1-y_i)*\\log{(1-p_i)}}=-1*\\log{(0.9)-(1-1)*\\log{(1-0.9)}}=-\\log{(0.9)}=0.105$$\n",
    "$$\\text{for } i \\text{ in } [5,9]: \\quad \\text{log loss}_{i}=-y_i*\\log{(p_i)-(1-y_i)*\\log{(1-p_i)}}=-0*\\log{(0.1)-(1-0)*\\log{(1-0.1)}}=-\\log{(0.9)}=0.105$$\n",
    "$$\\text{log loss}=\\frac{\\sum{\\text{log loss}_{i}}}{N_{samples}}=\\frac{0.105*10}{10}=0.105$$"
   ]
  },
  {
   "cell_type": "markdown",
   "metadata": {},
   "source": [
    "Results with correct but unsure predictions "
   ]
  },
  {
   "cell_type": "code",
   "execution_count": 26,
   "metadata": {},
   "outputs": [
    {
     "data": {
      "text/plain": [
       "0.35667494393873245"
      ]
     },
     "execution_count": 26,
     "metadata": {},
     "output_type": "execute_result"
    }
   ],
   "source": [
    "from sklearn.metrics import log_loss\n",
    "\n",
    "y_true = [1,1,1,1,1,0,0,0,0,0]\n",
    "y_pred_prob = [.7,.7,.7,.7,.7,.3,.3,.3,.3,.3]\n",
    "\n",
    "log_loss(y_true, y_pred_prob)"
   ]
  },
  {
   "cell_type": "markdown",
   "metadata": {},
   "source": [
    "### Confusion matrix\n",
    "Confusion matrix summarizes the intersections between ground truth and predictions.\n",
    "\n",
    "**Binary classification**"
   ]
  },
  {
   "cell_type": "code",
   "execution_count": 33,
   "metadata": {},
   "outputs": [
    {
     "name": "stdout",
     "output_type": "stream",
     "text": [
      "tn: 2\n",
      "fp: 2\n",
      "fn: 1\n",
      "tp: 5\n"
     ]
    }
   ],
   "source": [
    "from sklearn.metrics import confusion_matrix\n",
    "\n",
    "y_true = [1,1,1,1,1,0,0,0,0,1]\n",
    "y_pred = [1,1,1,1,1,1,1,0,0,0]\n",
    "\n",
    "conf_matr = confusion_matrix(y_true=y_true, y_pred=y_pred)\n",
    "\n",
    "tn, fp, fn, tp = conf_matr.ravel()\n",
    "\n",
    "print(f'tn: {tn}')\n",
    "print(f'fp: {fp}')\n",
    "print(f'fn: {fn}')\n",
    "print(f'tp: {tp}')"
   ]
  },
  {
   "cell_type": "code",
   "execution_count": 34,
   "metadata": {},
   "outputs": [
    {
     "data": {
      "image/png": "[encoded data removed]",
      "text/plain": [
       "<Figure size 640x480 with 2 Axes>"
      ]
     },
     "metadata": {},
     "output_type": "display_data"
    }
   ],
   "source": [
    "from sklearn.metrics import ConfusionMatrixDisplay\n",
    "\n",
    "cm_display = ConfusionMatrixDisplay(conf_matr).plot()"
   ]
  },
  {
   "cell_type": "markdown",
   "metadata": {},
   "source": [
    "**Multi-class classification**"
   ]
  },
  {
   "cell_type": "code",
   "execution_count": 36,
   "metadata": {},
   "outputs": [
    {
     "data": {
      "image/png": "[encoded data removed]",
      "text/plain": [
       "<Figure size 640x480 with 2 Axes>"
      ]
     },
     "metadata": {},
     "output_type": "display_data"
    }
   ],
   "source": [
    "from sklearn.metrics import confusion_matrix\n",
    "from sklearn.metrics import ConfusionMatrixDisplay\n",
    "\n",
    "y_true = [2,1,1,1,0,0,0,0,0,1]\n",
    "y_pred = [2,2,1,1,1,1,1,0,0,0]\n",
    "\n",
    "cm_display = ConfusionMatrixDisplay(confusion_matrix(y_true, y_pred)).plot()"
   ]
  },
  {
   "cell_type": "markdown",
   "metadata": {},
   "source": [
    "## Classification metrics: multi-labels classification problems\n",
    "In multi-label classification problems multiple classes can be associated to the same sample. So, now, the `y_true` and `y_pred` are lists of lists: each row corresponds to a sample, and each column corresponds to a predicted label for the sample."
   ]
  },
  {
   "cell_type": "markdown",
   "metadata": {},
   "source": [
    "### Precision at k (P@k)\n",
    "Precision at k (P@k) returns how many relevant items are present in the top-k predicted items, i.e., how many predictions are correct among the first $k$ predictions. \n",
    "\n",
    "Notice that it works on a single sample: its inputs are the true and predicted labels for only one record in the dataset.\n",
    "\n",
    "As of today, there is no implementation in scikit-learn, but it is quite simple to create a `pk` function that computes it."
   ]
  },
  {
   "cell_type": "code",
   "execution_count": 38,
   "metadata": {},
   "outputs": [],
   "source": [
    "def pk(y_true, y_pred, k):\n",
    "    '''\n",
    "    This function calculates precision at k for a single sample\n",
    "    :param y_true: list of values, actual classes\n",
    "    :param y_pred: list of values, predicted classes\n",
    "    :param k: the value of k\n",
    "    :return: precision at a given value k\n",
    "    '''\n",
    "    # if k is 0 return 0\n",
    "    if k == 0 : return 0\n",
    "\n",
    "    # consider only top k predictions\n",
    "    y_pred = y_pred[:k]\n",
    "\n",
    "    pred_set = set(y_pred)\n",
    "    true_set = set(y_true)\n",
    "\n",
    "    return len(pred_set.intersection(true_set)) / len(y_pred)"
   ]
  },
  {
   "cell_type": "code",
   "execution_count": 50,
   "metadata": {},
   "outputs": [
    {
     "name": "stdout",
     "output_type": "stream",
     "text": [
      "k = 1\tpk = 1.0\n",
      "k = 2\tpk = 0.5\n",
      "k = 3\tpk = 0.3333333333333333\n",
      "k = 4\tpk = 0.5\n",
      "k = 5\tpk = 0.6\n"
     ]
    }
   ],
   "source": [
    "y_true = [1,2,3]\n",
    "y_pred = [2,4,6,3,1]\n",
    "\n",
    "for k, _ in enumerate(y_pred):\n",
    "    pk_value = pk(y_true, y_pred, k=k+1)\n",
    "    print(f'k = {k+1}\\tpk = {pk_value}')"
   ]
  },
  {
   "cell_type": "markdown",
   "metadata": {},
   "source": [
    "### Average precision at k (AP@k)\n",
    "Average precision at k (AP@k) is the average of multiple precision at k (P@k) computed on the same sample for different $k$ values, ranging from 1 to a maximum $k_{max}$ value.\n",
    "\n",
    "As of today, there is no implementation in scikit-learn, but it is quite simple to create a `apk` function that computes it."
   ]
  },
  {
   "cell_type": "code",
   "execution_count": 51,
   "metadata": {},
   "outputs": [],
   "source": [
    "def apk(y_true, y_pred, k):\n",
    "    '''\n",
    "    This function calculates average precision at k for a single sample\n",
    "    :param y_true: list of values, actual classes\n",
    "    :param y_pred: list of values, predicted classes\n",
    "    :param k: maximum value of k to consider\n",
    "    :return: average precision at a given value k\n",
    "    '''\n",
    "\n",
    "    if k == 0 : return 0\n",
    "\n",
    "    pk_values = []\n",
    "\n",
    "    for k_i in range(1,k+1):\n",
    "        pk_values.append(pk(y_true, y_pred, k_i))\n",
    "\n",
    "    return sum(pk_values) / len(pk_values)"
   ]
  },
  {
   "cell_type": "code",
   "execution_count": 56,
   "metadata": {},
   "outputs": [
    {
     "name": "stdout",
     "output_type": "stream",
     "text": [
      "k = 1\tapk = 1.0\n",
      "k = 2\tapk = 0.75\n",
      "k = 3\tapk = 0.611111111111111\n",
      "k = 4\tapk = 0.5833333333333333\n",
      "k = 5\tapk = 0.5866666666666667\n"
     ]
    }
   ],
   "source": [
    "y_true = [1,2,3]\n",
    "y_pred = [2,4,6,3,1]\n",
    "\n",
    "for k, _ in enumerate(y_pred):\n",
    "    apk_value = apk(y_true, y_pred, k=k+1)\n",
    "    print(f'k = {k+1}\\tapk = {apk_value}')"
   ]
  },
  {
   "cell_type": "markdown",
   "metadata": {},
   "source": [
    "### Mean average precision at k (MAP@k)\n",
    "Mean average precision at k (MAP@k) computes the mean, over different samples, of the average precision at k (AP@k), each one computed on a single sample. So, differently from P@k and AP@k, MAP@k takes as input a list of samples with the relative labels, not a single sample.\n",
    "\n",
    "As of today, there is no implementation in scikit-learn, but it is quite simple to create a `mapk` function that computes it."
   ]
  },
  {
   "cell_type": "code",
   "execution_count": 58,
   "metadata": {},
   "outputs": [],
   "source": [
    "def mapk(y_true, y_pred, k):\n",
    "    '''\n",
    "    This function calculates average precision at k for a single sample\n",
    "    :param y_true: list of list of values, actual classes\n",
    "    :param y_pred: list of list of values, predicted classes\n",
    "    :param k: maximum value of k to consider\n",
    "    :return: mean average precision at a given value k\n",
    "    '''\n",
    "\n",
    "    if k == 0 : return 0\n",
    "\n",
    "    apk_values = []\n",
    "\n",
    "    for t,p in zip(y_true,y_pred):\n",
    "        apk_values.append(apk(t,p,k))\n",
    "\n",
    "    return sum(apk_values) / len(apk_values)"
   ]
  },
  {
   "cell_type": "code",
   "execution_count": 60,
   "metadata": {},
   "outputs": [
    {
     "name": "stdout",
     "output_type": "stream",
     "text": [
      "k = 1\tmapk = 0.6666666666666666\n",
      "k = 2\tmapk = 0.75\n",
      "k = 3\tmapk = 0.6851851851851851\n",
      "k = 4\tmapk = 0.6805555555555555\n",
      "k = 5\tmapk = 0.6644444444444444\n"
     ]
    }
   ],
   "source": [
    "y_true = [\n",
    "    [1,2,3],\n",
    "    [4,5,6],\n",
    "    [7,8,9]\n",
    "]\n",
    "\n",
    "y_pred = [\n",
    "    [1,3,5,2,4],\n",
    "    [3,5,7,4,6],\n",
    "    [7,9,11,8,10]\n",
    "]\n",
    "\n",
    "for k, _ in enumerate(y_pred[0]):\n",
    "    mapk_value = mapk(y_true, y_pred, k=k+1)\n",
    "    print(f'k = {k+1}\\tmapk = {mapk_value}')"
   ]
  },
  {
   "cell_type": "markdown",
   "metadata": {},
   "source": [
    "## Regression metrics\n",
    "All regression metrics are based on the **Error** $e$, that is the distance between the true value $y$ and the predicted value $\\hat{y}$.\n",
    "$$e=y-\\hat{y}$$\n",
    "So, for each sample $i$, it is possible to compute an error $e_i$.\n",
    "\n",
    "To show the different regression metrics, a simple linear regression model is fit."
   ]
  },
  {
   "cell_type": "code",
   "execution_count": 165,
   "metadata": {},
   "outputs": [
    {
     "name": "stdout",
     "output_type": "stream",
     "text": [
      "0.8949771354048385\n"
     ]
    },
    {
     "data": {
      "image/png": "[encoded data removed]",
      "text/plain": [
       "<Figure size 500x500 with 1 Axes>"
      ]
     },
     "metadata": {},
     "output_type": "display_data"
    }
   ],
   "source": [
    "from sklearn.datasets import make_regression\n",
    "import seaborn as sns\n",
    "import matplotlib.pyplot as plt\n",
    "from sklearn.linear_model import LinearRegression\n",
    "from sklearn.model_selection import train_test_split\n",
    "import pandas as pd\n",
    "\n",
    "X,y = make_regression(n_samples=100,n_features=1,n_informative=1,noise=15)\n",
    "X_train, X_test, y_train, y_test = train_test_split(X,y,test_size=5,shuffle=True)\n",
    "regressor = LinearRegression()\n",
    "regressor.fit(X_train,y_train)\n",
    "y_pred = regressor.predict(X_test)\n",
    "y_true = y_test\n",
    "score = regressor.score(X_test,y_test)\n",
    "\n",
    "X_plot = pd.Series(X_test.ravel())\n",
    "y_true_plot = pd.Series(y_test)\n",
    "y_pred_plot = pd.Series(y_pred)\n",
    "\n",
    "sns.set_theme()\n",
    "fig, ax = plt.subplots(1,1,figsize=(5,5))\n",
    "sns.scatterplot(x=X_test.ravel(),y=y_test,ax=ax)\n",
    "sns.lineplot(x=X_test.ravel(),y=y_pred,ax=ax,color='red')\n",
    "print(score)"
   ]
  },
  {
   "cell_type": "markdown",
   "metadata": {},
   "source": [
    "### Mean absolute error (MAE)\n",
    "Mean absolute error (MAE) is the mean of the absolute errors, each computed on a different sample.\n",
    "$$\\text{MAE}=\\frac{1}{N}\\sum^{N}_{i=1}{|e_i|}$$"
   ]
  },
  {
   "cell_type": "code",
   "execution_count": 167,
   "metadata": {},
   "outputs": [
    {
     "data": {
      "text/plain": [
       "11.258862845478145"
      ]
     },
     "execution_count": 167,
     "metadata": {},
     "output_type": "execute_result"
    }
   ],
   "source": [
    "from sklearn.metrics import mean_absolute_error\n",
    "\n",
    "mean_absolute_error(y_true,y_pred)"
   ]
  },
  {
   "cell_type": "markdown",
   "metadata": {},
   "source": [
    "### Mean squared error (MSE)\n",
    "Mean squared error (MSE) is the mean of the squared errors, each computed on a different sample.\n",
    "$$\\text{MSE}=\\frac{1}{N}\\sum^{N}_{i=1}{e_i^2}$$"
   ]
  },
  {
   "cell_type": "code",
   "execution_count": 170,
   "metadata": {},
   "outputs": [
    {
     "data": {
      "text/plain": [
       "186.64575821551256"
      ]
     },
     "execution_count": 170,
     "metadata": {},
     "output_type": "execute_result"
    }
   ],
   "source": [
    "from sklearn.metrics import mean_squared_error\n",
    "\n",
    "mean_squared_error(y_true,y_pred)"
   ]
  },
  {
   "cell_type": "markdown",
   "metadata": {},
   "source": [
    "### Root mean squared error (RMSE)\n",
    "Root mean squared error (RMSE) is the square root of the mean squared error (MSE)\n",
    "$$\\text{RMSE}=\\sqrt{\\text{MSE}}=\\sqrt{\\frac{1}{N}\\sum^{N}_{i=1}{e_i^2}}$$"
   ]
  },
  {
   "cell_type": "code",
   "execution_count": 171,
   "metadata": {},
   "outputs": [
    {
     "data": {
      "text/plain": [
       "13.661835828888904"
      ]
     },
     "execution_count": 171,
     "metadata": {},
     "output_type": "execute_result"
    }
   ],
   "source": [
    "from sklearn.metrics import mean_squared_error\n",
    "import numpy as np\n",
    "\n",
    "np.sqrt(mean_squared_error(y_true,y_pred))"
   ]
  }
 ],
 "metadata": {
  "kernelspec": {
   "display_name": "Python 3.7.12 ('aaamlp_env')",
   "language": "python",
   "name": "python3"
  },
  "language_info": {
   "codemirror_mode": {
    "name": "ipython",
    "version": 3
   },
   "file_extension": ".py",
   "mimetype": "text/x-python",
   "name": "python",
   "nbconvert_exporter": "python",
   "pygments_lexer": "ipython3",
   "version": "3.7.12"
  },
  "orig_nbformat": 4,
  "vscode": {
   "interpreter": {
    "hash": "c2b9b5786cfc15596cbfdff010eaa70259c035a0d8334e5aec1862f16379bc0d"
   }
  }
 },
 "nbformat": 4,
 "nbformat_minor": 2
}
